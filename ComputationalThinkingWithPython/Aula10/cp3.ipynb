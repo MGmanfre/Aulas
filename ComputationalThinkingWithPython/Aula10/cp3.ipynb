{
 "cells": [
  {
   "cell_type": "code",
   "execution_count": 10,
   "metadata": {},
   "outputs": [
    {
     "name": "stdout",
     "output_type": "stream",
     "text": [
      "Palavra 1: sim, tem 3 letras\n",
      "Palavra 2: talvez, tem 6 letras\n",
      "Palavra 3: simnao, tem 6 letras\n"
     ]
    }
   ],
   "source": [
    "def analisar_letras(contador= 0):\n",
    "    palavras = []\n",
    "    for i in range(3):\n",
    "        palavra = input(\"Insira uma palavra: \")\n",
    "        palavras.append(palavra)\n",
    "    resultado = []\n",
    "    for palavra in palavras:\n",
    "        contador += 1\n",
    "        print(f\"Palavra {contador}: {palavra}, tem {len(palavra)} letras\")\n",
    "\n",
    "analisar_letras()"
   ]
  },
  {
   "cell_type": "code",
   "execution_count": 14,
   "metadata": {},
   "outputs": [
    {
     "name": "stdout",
     "output_type": "stream",
     "text": [
      "sim: 20\n",
      "sim: 20\n",
      "nao: 30\n",
      "Saindo...\n"
     ]
    }
   ],
   "source": [
    "def controle_estoque():\n",
    "    estoque = {}\n",
    " \n",
    "    while True:\n",
    "        opcao = input(\"\\n1-Adicionar  2-Atualizar  3-Exibir  4-Sair\\nEscolha: \")\n",
    " \n",
    "        if opcao == '1':\n",
    "            p = input(\"Produto: \")\n",
    "            q = int(input(\"Quantidade: \"))\n",
    "            estoque[p] = estoque.get(p, 0) + q\n",
    " \n",
    "        elif opcao == '2':\n",
    "            p = input(\"Produto: \")\n",
    "            if p in estoque:\n",
    "                estoque[p] = int(input(\"Nova quantidade: \"))\n",
    "            else:\n",
    "                print(\"Produto não encontrado.\")\n",
    " \n",
    "        elif opcao == '3':\n",
    "            if estoque:\n",
    "                for p, q in estoque.items():\n",
    "                    print(f\"{p}: {q}\")\n",
    "            else:\n",
    "                print(\"Estoque vazio.\")\n",
    " \n",
    "        elif opcao == '4':\n",
    "            print(\"Saindo...\")\n",
    "            break\n",
    " \n",
    "        else:\n",
    "            print(\"Opção inválida.\")\n",
    "\n",
    "controle_estoque()\n",
    " "
   ]
  },
  {
   "cell_type": "code",
   "execution_count": 15,
   "metadata": {},
   "outputs": [
    {
     "name": "stdout",
     "output_type": "stream",
     "text": [
      "O custo total de produção do produto escova é: R$ 450.00\n"
     ]
    }
   ],
   "source": [
    "def calcular_custos_producao():\n",
    "    nome_produto = input(\"Nome do produto: \")\n",
    "    custo_produto = float(input(\"Custo do produto: \"))\n",
    "    quantidade = int(input(\"Quantidade: \"))\n",
    "    \n",
    "    custo_total = custo_produto * quantidade\n",
    "    \n",
    "    print(f\"O custo total de produção do produto {nome_produto} é: R$ {custo_total:.2f}\")\n",
    "\n",
    "calcular_custos_producao()"
   ]
  }
 ],
 "metadata": {
  "kernelspec": {
   "display_name": "Python 3",
   "language": "python",
   "name": "python3"
  },
  "language_info": {
   "codemirror_mode": {
    "name": "ipython",
    "version": 3
   },
   "file_extension": ".py",
   "mimetype": "text/x-python",
   "name": "python",
   "nbconvert_exporter": "python",
   "pygments_lexer": "ipython3",
   "version": "3.12.3"
  }
 },
 "nbformat": 4,
 "nbformat_minor": 2
}
