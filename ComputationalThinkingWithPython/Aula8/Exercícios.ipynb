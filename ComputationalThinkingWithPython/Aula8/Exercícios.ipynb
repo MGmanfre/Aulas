{
 "cells": [
  {
   "cell_type": "markdown",
   "metadata": {},
   "source": [
    "### 1. Crie um algoritmo para calcular o resultado de uma equação de primeiro grau 10x + 5 utilizando função "
   ]
  },
  {
   "cell_type": "code",
   "execution_count": 3,
   "metadata": {},
   "outputs": [
    {
     "data": {
      "text/plain": [
       "0.0"
      ]
     },
     "execution_count": 3,
     "metadata": {},
     "output_type": "execute_result"
    }
   ],
   "source": [
    "def equacao(x):\n",
    "    return (10*x)+5\n",
    "x = float(input(\"Digite valor de x: \"))\n",
    "equacao(x)\n",
    "    "
   ]
  },
  {
   "cell_type": "markdown",
   "metadata": {},
   "source": [
    "### 2. Crie uma algoritmo para calcular a área de um retângulo e quadrado em uma unica função."
   ]
  },
  {
   "cell_type": "code",
   "execution_count": 1,
   "metadata": {},
   "outputs": [
    {
     "name": "stdout",
     "output_type": "stream",
     "text": [
      "50.0\n",
      "16.0\n"
     ]
    }
   ],
   "source": [
    "def area(b,h,l):\n",
    "    ret = b*h\n",
    "    quad = l**2\n",
    "    return ret, quad\n",
    "\n",
    "base = float(input(\"Digite a base do retângulo\"))\n",
    "altura = float(input(\"Digite a altura do retângulo\"))\n",
    "lado = float(input(\"Digite o lado do quadrado\"))\n",
    "x, y = area(base, altura, lado)\n",
    "\n",
    "print(x)\n",
    "print(y)"
   ]
  },
  {
   "cell_type": "markdown",
   "metadata": {},
   "source": [
    "### 3. Crie uma função a qual seja possível calcular o resultado de uma equação de segundo grau,  apartir de duas equações do primeiro grau"
   ]
  }
 ],
 "metadata": {
  "kernelspec": {
   "display_name": "Python 3",
   "language": "python",
   "name": "python3"
  },
  "language_info": {
   "codemirror_mode": {
    "name": "ipython",
    "version": 3
   },
   "file_extension": ".py",
   "mimetype": "text/x-python",
   "name": "python",
   "nbconvert_exporter": "python",
   "pygments_lexer": "ipython3",
   "version": "3.12.3"
  }
 },
 "nbformat": 4,
 "nbformat_minor": 2
}
