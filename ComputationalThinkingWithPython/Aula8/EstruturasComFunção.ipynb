{
 "cells": [
  {
   "cell_type": "code",
   "execution_count": 9,
   "metadata": {},
   "outputs": [
    {
     "data": {
      "text/plain": [
       "'14.29'"
      ]
     },
     "execution_count": 9,
     "metadata": {},
     "output_type": "execute_result"
    }
   ],
   "source": [
    "def dividir(a, b):\n",
    "    if b == 0 or a == 0:\n",
    "        return 'Impossível dividir!'\n",
    "    else:\n",
    "        return (\"{:.2f}\".format(a / b))\n",
    "num1 = float(input(\"numerador\"))\n",
    "num2 = float(input(\"Denominador\"))\n",
    "dividir(num1, num2)"
   ]
  },
  {
   "cell_type": "markdown",
   "metadata": {},
   "source": [
    "# EX-1"
   ]
  },
  {
   "cell_type": "code",
   "execution_count": 10,
   "metadata": {},
   "outputs": [
    {
     "name": "stdout",
     "output_type": "stream",
     "text": [
      "Olá\n"
     ]
    }
   ],
   "source": [
    "def saudacao():\n",
    "    print('Olá')\n",
    "saudacao()"
   ]
  },
  {
   "cell_type": "markdown",
   "metadata": {},
   "source": [
    "# EX-2"
   ]
  },
  {
   "cell_type": "code",
   "execution_count": 11,
   "metadata": {},
   "outputs": [
    {
     "name": "stdout",
     "output_type": "stream",
     "text": [
      "Olá miguel,  seja bem vindo\n"
     ]
    }
   ],
   "source": [
    "def saudacao_personalizada(nome):\n",
    "    print(f\"Olá {nome},  seja bem vindo\")\n",
    "nome = str(input(\"Insira seu Nome: \"))\n",
    "saudacao_personalizada(nome)"
   ]
  },
  {
   "cell_type": "markdown",
   "metadata": {},
   "source": [
    "# EX-3"
   ]
  },
  {
   "cell_type": "code",
   "execution_count": 12,
   "metadata": {},
   "outputs": [
    {
     "data": {
      "text/plain": [
       "10.0"
      ]
     },
     "execution_count": 12,
     "metadata": {},
     "output_type": "execute_result"
    }
   ],
   "source": [
    "def media(a,b):\n",
    "    return (a+b)/2\n",
    "x = float(input(\"Digite o primeiro número: \"))\n",
    "y = float(input(\"Digite o segundo número: \"))\n",
    "\n",
    "media(x,y)\n"
   ]
  },
  {
   "cell_type": "markdown",
   "metadata": {},
   "source": [
    "# EX-4"
   ]
  },
  {
   "cell_type": "code",
   "execution_count": 14,
   "metadata": {},
   "outputs": [
    {
     "name": "stdout",
     "output_type": "stream",
     "text": [
      "7.5\n",
      "2.0\n"
     ]
    }
   ],
   "source": [
    "def medias(a,b,c,d):\n",
    "    resultado1 = (a+b)/2\n",
    "    resultado2 = (c+d)/2\n",
    "    return resultado1, resultado2\n",
    "x,y = medias(10,5,3,1)\n",
    "print(x)\n",
    "print(y)"
   ]
  },
  {
   "cell_type": "markdown",
   "metadata": {},
   "source": [
    "# EX-5"
   ]
  }
 ],
 "metadata": {
  "kernelspec": {
   "display_name": "Python 3",
   "language": "python",
   "name": "python3"
  },
  "language_info": {
   "codemirror_mode": {
    "name": "ipython",
    "version": 3
   },
   "file_extension": ".py",
   "mimetype": "text/x-python",
   "name": "python",
   "nbconvert_exporter": "python",
   "pygments_lexer": "ipython3",
   "version": "3.12.3"
  }
 },
 "nbformat": 4,
 "nbformat_minor": 2
}
