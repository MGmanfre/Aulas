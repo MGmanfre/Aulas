{
 "cells": [
  {
   "cell_type": "markdown",
   "metadata": {},
   "source": [
    "# EX - 1\n",
    "\n",
    "**Escreva um programa que receba três números inteiros como entrada e imprima o maior deles. Se houver números iguais, o programa deve informar que existem valores repetidos.**"
   ]
  },
  {
   "cell_type": "code",
   "execution_count": null,
   "metadata": {},
   "outputs": [],
   "source": [
    "num1 = int(input('digite um valor: ')) \n",
    "num2 = int(input('digite um valor: ')) \n",
    "num3 = int(input('digite um valor: ')) \n",
    "\n",
    "if num1 > num2 and num1 > num3 and num3 != num2:\n",
    "    print(f'o numero {num1} foi o maior numero digitado.')\n",
    "elif num2 > num1 and num2 > num3 and num3 != num1:\n",
    "    print(f'o numero {num2} foi o maior numero digitado.')\n",
    "elif num3 > num2 and num3 > num1 and num2 != num1:\n",
    "    print(f'o numero {num3} foi o maior numero digitado.')\n",
    "elif num1 == num3 and num3 != num2:\n",
    "    print('o primeiro e o terceiro numero estão reptidos.')\n",
    "elif num2 == num1 and num2 != num3:\n",
    "    print('os dois primeiros numeros são iguais. ')\n",
    "elif num2 == num3 and num3 != num1:\n",
    "    print('os dois ultimos numeros são iguais. ')\n",
    "else: \n",
    "    print('todos os numeros são iguais')"
   ]
  },
  {
   "cell_type": "markdown",
   "metadata": {},
   "source": [
    "# EX - 2\n",
    "\n",
    "**Desenvolva um programa que simule um sistema de login. O programa deve receber um nome de usuário e uma senha.**\n",
    "- Se o usuário for \"admin\" e a senha for \"12345\", imprima \"Acesso concedido\".\n",
    "- Se o usuário for \"admin\" mas a senha estiver errada, imprima \"Senha incorreta\".\n",
    "- Se o usuário não for \"admin\" mas existir no sistema (ex.: \"user1\", \"guest\"), imprima \"Acesso limitado\".\n",
    "- Caso contrário, imprima \"Usuário não reconhecido\"."
   ]
  },
  {
   "cell_type": "code",
   "execution_count": 8,
   "metadata": {},
   "outputs": [
    {
     "name": "stdout",
     "output_type": "stream",
     "text": [
      "Acesso limitado\n"
     ]
    }
   ],
   "source": [
    "dados = ['user','user1', 'guest', 'user2', 'user3']\n",
    "user = str(input('Digite o nome de usuário:'))\n",
    "if user == 'admin':\n",
    "    senha = int(input('Digite a senha de acesso:'))\n",
    "    if senha == 12345:\n",
    "        print('Acesso concedido')\n",
    "    else:\n",
    "        print('Senha incorreta')\n",
    "elif user in dados:\n",
    "    print('Acesso limitado')\n",
    "else:\n",
    "    print('Usuário não reconheicido')"
   ]
  },
  {
   "cell_type": "markdown",
   "metadata": {},
   "source": [
    "# EX - 3\n",
    "\n",
    "**Um sistema de energia calcula o custo de consumo elétrico baseado na faixa de gasto (em kWh). Escreva um programa que receba o consumo mensal (em kWh) e calcule o valor da conta conforme as regras:**\n",
    "- Até 50 kWh: R$ 0,50 por kWh.\n",
    "- Entre 51 e 100 kWh: R$ 0,75 por kWh.\n",
    "- Acima de 100 kWh: R$ 1,20porkWh + taxa Fixada de 5,00"
   ]
  },
  {
   "cell_type": "code",
   "execution_count": null,
   "metadata": {},
   "outputs": [],
   "source": [
    "consumo = float(input(\"Digite o consumo mensal em kWh: \"))\n",
    "\n",
    "if consumo < 0:\n",
    "    print(\"Consumo não pode ser negativo.\")\n",
    "elif consumo <= 50:\n",
    "    valor = consumo * 0.50\n",
    "    print(f\"Valor da conta de energia: R${valor}\")\n",
    "elif consumo <= 100:\n",
    "    valor = consumo * 0.75\n",
    "    print(f\"Valor da conta de energia: R$ {valor}\")\n",
    "else:\n",
    "    valor = (consumo * 1.20) + 5.00\n",
    "    print(f\"Valor da conta de energia: R$ {valor}\")"
   ]
  },
  {
   "cell_type": "markdown",
   "metadata": {},
   "source": [
    "# EX - 4\n",
    "**Um simulador de usina hidrelétrica classifica a eficiência de turbinas baseada em dois fatores:**\n",
    "\n",
    "**Tipo de turbina (Kaplan, Francisou Pelton).Vazão de água (baixa, média ou alta).**\n",
    "**O programa deve receber esses dois dados e retornar:**\n",
    "\n",
    "- \"Eficiência máxima\": Se for Kaplan+ alta vazão OU Pelton + baixavazão.\n",
    "- \"Eficiência moderada\": Se for Francis + qualquer vazão, exceto Francis + baixa.\n",
    "- \"Eficiência mínima\": Casos restantes.\n",
    "\n"
   ]
  },
  {
   "cell_type": "code",
   "execution_count": null,
   "metadata": {},
   "outputs": [],
   "source": [
    "turbina = input(\"Digite o tipo de turbina (Kaplan, Francis ou Pelton): \").strip().lower()\n",
    "vazao = input(\"Digite o tipo de vazão da água (baixa, média ou alta): \").strip().lower()\n",
    "\n",
    "if (turbina == \"kaplan\" and vazao == \"alta\") or (turbina == \"pelton\" and vazao == \"baixa\"):\n",
    "    print(\"Eficiência máxima\")\n",
    "elif turbina == \"francis\" and vazao != \"baixa\":\n",
    "    print(\"Eficiência moderada\")\n",
    "else:\n",
    "    print(\"Eficiência mínima\")"
   ]
  }
 ],
 "metadata": {
  "kernelspec": {
   "display_name": "Python 3",
   "language": "python",
   "name": "python3"
  },
  "language_info": {
   "codemirror_mode": {
    "name": "ipython",
    "version": 3
   },
   "file_extension": ".py",
   "mimetype": "text/x-python",
   "name": "python",
   "nbconvert_exporter": "python",
   "pygments_lexer": "ipython3",
   "version": "3.12.3"
  }
 },
 "nbformat": 4,
 "nbformat_minor": 2
}
