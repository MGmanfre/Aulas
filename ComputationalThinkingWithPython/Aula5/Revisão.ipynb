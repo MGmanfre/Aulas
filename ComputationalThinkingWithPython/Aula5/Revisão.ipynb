{
 "cells": [
  {
   "cell_type": "markdown",
   "metadata": {},
   "source": [
    "# EX - 1 "
   ]
  },
  {
   "cell_type": "code",
   "execution_count": null,
   "metadata": {},
   "outputs": [],
   "source": [
    "var1 = int(input('Digite um número inteiro:'))\n",
    "var2 = float(input('Digite um número não inteiro:'))\n",
    "var3 = str(input('Digite uma palavra:'))\n",
    "\n",
    "print(f'O número inteiro {var1}')\n",
    "print(f'O número não inteiro {var2}')\n",
    "print(f'A palavra é {var3}')\n"
   ]
  },
  {
   "cell_type": "markdown",
   "metadata": {},
   "source": [
    "# EX - 2"
   ]
  },
  {
   "cell_type": "code",
   "execution_count": 3,
   "metadata": {},
   "outputs": [
    {
     "name": "stdout",
     "output_type": "stream",
     "text": [
      "Acesso negado\n"
     ]
    }
   ],
   "source": [
    "nome = str(input('Digite seu nome'))\n",
    "\n",
    "if nome == 'fiap':\n",
    "    rgm = int(input('Digite seu RGM'))\n",
    "    if rgm == 1234:\n",
    "        print('Acesso permitido')\n",
    "    else:\n",
    "        print('Acesso negado')\n",
    "else:\n",
    "    print('Acesso negado')"
   ]
  },
  {
   "cell_type": "markdown",
   "metadata": {},
   "source": [
    "# EX - 3"
   ]
  },
  {
   "cell_type": "code",
   "execution_count": null,
   "metadata": {},
   "outputs": [],
   "source": [
    "nome = str(input('Digite seu nome'))\n",
    "rgm = int(input('Digite seu RGM'))\n",
    "\n",
    "if nome == 'fiap' or rgm == 1234:\n",
    "    print('Acesso permitido')\n",
    "else:\n",
    "    print('Acesso negado')"
   ]
  },
  {
   "cell_type": "markdown",
   "metadata": {},
   "source": [
    "# EX - 4\n",
    "## área\n",
    "\n",
    "pi = 3.14\n",
    "\n",
    "quadrado = l1 * l2\n",
    "\n",
    "retangulo = l1 * l2\n",
    "\n",
    "circulo = pi*(r**2)\n",
    "\n",
    "triangulo = (b*h)/2\n",
    "\n",
    "## perimetro\n",
    "\n",
    "quadrado = l*4\n",
    "\n",
    "retangulo = (l1 * 2) + (l2 * 2)\n",
    "\n",
    "circulo = 2*pi*r\n",
    "\n",
    "triangulo = b + h + hipotenusa\n"
   ]
  },
  {
   "cell_type": "code",
   "execution_count": null,
   "metadata": {},
   "outputs": [
    {
     "name": "stdout",
     "output_type": "stream",
     "text": [
      "Você digitou a forma errada!\n"
     ]
    }
   ],
   "source": [
    "forma = str(input('Digite uma forma geométrica(Círculo, Quadrado, Retângulo, Triângulo):').lower)\n",
    "if forma == 'quadrado':\n",
    "    calculo = str(input('Digite o que vc quer calcular(Perímetro ou Área):').lower)\n",
    "    if calculo == 'area':\n",
    "        l1 = float(input('Digite o lado 1:'))\n",
    "        l2 = float(input('Digite o lado 2:'))\n",
    "        areaq = l1 * l2\n",
    "        print(f'A área é {areaq}')\n",
    "    elif calculo == 'perimetro':\n",
    "        l1 = float(input('Digite o lado 1:'))\n",
    "        l2 = float(input('Digite o lado 2:'))\n",
    "        periq = l1 * 4\n",
    "        print(f'O perímetro é {periq}')\n",
    "    else:\n",
    "        print('Você digitou o cálculo errado!')\n",
    "elif forma == 'retangulo':\n",
    "    if calculo == 'area':\n",
    "        l1 = float(input('Digite o lado 1:'))\n",
    "        l2 = float(input('Digite o lado 2:'))\n",
    "        arear = l1 * l2\n",
    "        print(f'A área é {arear}')\n",
    "    elif calculo == 'perimetro':\n",
    "        l1 = float(input('Digite o lado 1:'))\n",
    "        l2 = float(input('Digite o lado 2:'))\n",
    "        perir = (l1 * 2)+(l2*2)\n",
    "        print(f'O perímetro é {perir}')\n",
    "    else:\n",
    "        print('Você digitou o cálculo errado!')\n",
    "elif forma == 'triangulo':\n",
    "    if calculo == 'area':\n",
    "        b = float(input('Digite a base:'))\n",
    "        h = float(input('Digite a altura:'))\n",
    "        areat = (b * h)/2\n",
    "        print(f'A área é {areat}')\n",
    "    elif calculo == 'perimetro':\n",
    "        b = float(input('a base::'))\n",
    "        h = float(input('Digite a altura:'))\n",
    "        hip = float(input('Digite a hipotenusa:'))\n",
    "        perit = b + h + hip\n",
    "        print(f'O perímetro é {perit}')\n",
    "    else:\n",
    "        print('Você digitou o cálculo errado!')\n",
    "elif 'circulo' in forma:\n",
    "    if calculo == 'area':\n",
    "        pi = 3.14\n",
    "        r = float(input('Digite o raio:'))\n",
    "        areac = pi * (r**2)\n",
    "        print(f'A área é {areac}')\n",
    "    elif calculo == 'perimetro':\n",
    "        pi = 3.14\n",
    "        r = float(input('Digite o raio:'))\n",
    "        peric = 2 * pi * r\n",
    "        print(f'O perímetro é {peric}')\n",
    "    else:\n",
    "        print('Você digitou o cálculo errado!')\n",
    "else:\n",
    "    print('Você digitou a forma errada!')"
   ]
  }
 ],
 "metadata": {
  "kernelspec": {
   "display_name": "Python 3",
   "language": "python",
   "name": "python3"
  },
  "language_info": {
   "codemirror_mode": {
    "name": "ipython",
    "version": 3
   },
   "file_extension": ".py",
   "mimetype": "text/x-python",
   "name": "python",
   "nbconvert_exporter": "python",
   "pygments_lexer": "ipython3",
   "version": "3.12.3"
  }
 },
 "nbformat": 4,
 "nbformat_minor": 2
}
