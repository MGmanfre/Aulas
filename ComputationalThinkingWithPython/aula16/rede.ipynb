{
 "cells": [
  {
   "cell_type": "code",
   "execution_count": 1,
   "id": "db472fcd",
   "metadata": {},
   "outputs": [
    {
     "name": "stdout",
     "output_type": "stream",
     "text": [
      "Olá! Meu nome é Ana e tenho 25 anos.\n",
      "Olá! Meu nome é Carlos e tenho 30 anos.\n"
     ]
    }
   ],
   "source": [
    "class Pessoa:\n",
    "    def __init__(self, nome, idade):\n",
    "        self.nome = nome\n",
    "        self.idade = idade\n",
    "    def apresentar(self):\n",
    "        print(f\"Olá! Meu nome é {self.nome} e tenho {self.idade} anos.\")\n",
    "\n",
    "p1 = Pessoa(\"Ana\", 25)\n",
    "p2 = Pessoa(\"Carlos\", 30)\n",
    "\n",
    "p1.apresentar()\n",
    "p2.apresentar()"
   ]
  },
  {
   "cell_type": "code",
   "execution_count": 12,
   "id": "0f1f0773",
   "metadata": {},
   "outputs": [
    {
     "name": "stdout",
     "output_type": "stream",
     "text": [
      "Sou brasileiro, tenho 18 anos e sou Solteiro\n",
      "Sou teupai, tenho 32 anos e sou Solteiro\n",
      "Sou espanhol, tenho 22 anos e sou Casada\n",
      "Sou francês, tenho 40 anos e sou Casado\n"
     ]
    }
   ],
   "source": [
    "class info:\n",
    "    def __init__(self, nacionalidade, idade, estadoCivil):\n",
    "        self.nacionalidade = nacionalidade\n",
    "        self.idade = idade\n",
    "        self.estadoCivil = estadoCivil\n",
    "    def apresenta(self):\n",
    "        print(f\"Sou {self.nacionalidade}, tenho {self.idade} anos e sou {self.estadoCivil}\")\n",
    "\n",
    "pessoa = [\n",
    "    info(\"brasileiro\", 18, \"Solteiro\"),\n",
    "    info(\"teupai\", 32, \"Solteiro\"),\n",
    "    info(\"espanhol\", 22, \"Casada\"),\n",
    "    info(\"francês\", 40, \"Casado\")\n",
    "]\n",
    "\n",
    "for p in pessoa:\n",
    "    p.apresenta()"
   ]
  },
  {
   "cell_type": "code",
   "execution_count": null,
   "id": "daf5becf",
   "metadata": {},
   "outputs": [],
   "source": []
  }
 ],
 "metadata": {
  "kernelspec": {
   "display_name": "anaconda-toolbox",
   "language": "python",
   "name": "python3"
  },
  "language_info": {
   "codemirror_mode": {
    "name": "ipython",
    "version": 3
   },
   "file_extension": ".py",
   "mimetype": "text/x-python",
   "name": "python",
   "nbconvert_exporter": "python",
   "pygments_lexer": "ipython3",
   "version": "3.13.5"
  }
 },
 "nbformat": 4,
 "nbformat_minor": 5
}
