{
 "cells": [
  {
   "cell_type": "markdown",
   "metadata": {},
   "source": [
    "# Ex - 1\n",
    "**Crie um algoritmo para solicitar três valores para o usuário (a, b e c)**\n",
    "\n",
    "**Em seguida faças as seguintes operações:**\n",
    "\n",
    "a) a+b+c\n",
    "\n",
    "b) a-b-c\n",
    "\n",
    "c) a^2+2b-5.1c\n",
    "\n",
    "d) a+b=c\n",
    "\n",
    "e) c-b=b\n",
    "\n",
    "f) a+c=b-c\n"
   ]
  },
  {
   "cell_type": "code",
   "execution_count": 1,
   "metadata": {},
   "outputs": [
    {
     "ename": "ValueError",
     "evalue": "could not convert string to float: ''",
     "output_type": "error",
     "traceback": [
      "\u001b[1;31m---------------------------------------------------------------------------\u001b[0m",
      "\u001b[1;31mValueError\u001b[0m                                Traceback (most recent call last)",
      "Cell \u001b[1;32mIn[1], line 1\u001b[0m\n\u001b[1;32m----> 1\u001b[0m a \u001b[38;5;241m=\u001b[39m \u001b[38;5;28;43mfloat\u001b[39;49m\u001b[43m(\u001b[49m\u001b[38;5;28;43minput\u001b[39;49m\u001b[43m(\u001b[49m\u001b[38;5;124;43m\"\u001b[39;49m\u001b[38;5;124;43mDigite o valor de A: \u001b[39;49m\u001b[38;5;124;43m\"\u001b[39;49m\u001b[43m)\u001b[49m\u001b[43m)\u001b[49m\n\u001b[0;32m      2\u001b[0m b \u001b[38;5;241m=\u001b[39m \u001b[38;5;28mfloat\u001b[39m(\u001b[38;5;28minput\u001b[39m(\u001b[38;5;124m\"\u001b[39m\u001b[38;5;124mDigite o valor de B: \u001b[39m\u001b[38;5;124m\"\u001b[39m))\n\u001b[0;32m      3\u001b[0m c \u001b[38;5;241m=\u001b[39m \u001b[38;5;28mfloat\u001b[39m(\u001b[38;5;28minput\u001b[39m(\u001b[38;5;124m\"\u001b[39m\u001b[38;5;124mDigite o valor de C: \u001b[39m\u001b[38;5;124m\"\u001b[39m))\n",
      "\u001b[1;31mValueError\u001b[0m: could not convert string to float: ''"
     ]
    }
   ],
   "source": [
    "\n",
    "a = float(input(\"Digite o valor de A: \"))\n",
    "b = float(input(\"Digite o valor de B: \"))\n",
    "c = float(input(\"Digite o valor de C: \"))\n",
    "\n",
    "eq1 = a+b+c\n",
    "eq2 = a-b-c\n",
    "eq3 = (a**2)+(2*b)-(5.1*c)\n",
    "eq4 = a+b==c\n",
    "eq5 = c-b==b\n",
    "eq6 = a+c==b-c\n",
    "\n",
    "print(f\"\"\"Equações:\n",
    "a) a+b+c\n",
    "b) a-b-c\n",
    "c) a^2+2b-5.1c\n",
    "d) a+b=c\n",
    "e) c-b=b\n",
    "f) a+c=b-c\n",
    "Valores\n",
    "a) {eq1}\n",
    "b) {eq2}\n",
    "c) {eq3}\n",
    "d) {eq4}\n",
    "e) {eq5}\n",
    "f) {eq6}\"\"\")"
   ]
  },
  {
   "cell_type": "markdown",
   "metadata": {},
   "source": [
    "# Ex - 2 \n",
    "**Crie um algoritmo para calcular o valor do imposto a ser pago e o valor do salário a ser recebido.**\n",
    " \n",
    "a) 10% desconto para salário de 2500 reais\n",
    "\n",
    "b) 15% desconto para salário de 3500 reais\n",
    "\n",
    "c) 25% desconto para salário de 5000 reais"
   ]
  },
  {
   "cell_type": "code",
   "execution_count": null,
   "metadata": {},
   "outputs": [
    {
     "name": "stdout",
     "output_type": "stream",
     "text": [
      "Salários:\n",
      "1) 2500 reais\n",
      "2) 3500 reais\n",
      "3) 5000 reais\n",
      "Descontos:\n",
      "1) 250.0\n",
      "2) 525.0\n",
      "3) 1250.0\n",
      "Recebido:\n",
      "1) 2250.0\n",
      "2) 2975.0\n",
      "3) 3750.0\n"
     ]
    }
   ],
   "source": [
    "sal1 = 2500\n",
    "sal2 = 3500\n",
    "sal3 = 5000\n",
    "\n",
    "des1 = sal1*0.10\n",
    "rec1 = sal1 - des1\n",
    "des2 = sal2*0.15\n",
    "rec2 = sal2 - des2\n",
    "des3 = sal3*0.25\n",
    "rec3 = sal3 - des3\n",
    "\n",
    "print(f'''Salários:\n",
    "1) 2500 reais\n",
    "2) 3500 reais\n",
    "3) 5000 reais\n",
    "Descontos:\n",
    "1) {des1}\n",
    "2) {des2}\n",
    "3) {des3}\n",
    "Recebido:\n",
    "1) {rec1}\n",
    "2) {rec2}\n",
    "3) {rec3}''')\n"
   ]
  },
  {
   "cell_type": "markdown",
   "metadata": {},
   "source": [
    "# Ex - 3 \n",
    "**Crie um algoritmo para solicitar para dois usuários, email, senha e palavra chave. Em seguida, mostre as informações para cada usuário.**"
   ]
  },
  {
   "cell_type": "code",
   "execution_count": null,
   "metadata": {},
   "outputs": [],
   "source": [
    "u1 = input(\"Digite seu nome de usuário: \")\n",
    "u2 = input(\"Digite seu nome de usuário: \")\n",
    "e1 = input(\"Digite um email: \")\n",
    "e2 = input(\"Digite um email: \")\n",
    "s1 = input(\"Digite uma senha: \")\n",
    "s2 = input(\"Digite uma senha: \")\n",
    "pc1 = input(\"Digite uma palavra chave: \")\n",
    "pc2 = input(\"Digite uma palavra chave: \")"
   ]
  }
 ],
 "metadata": {
  "kernelspec": {
   "display_name": "Python 3",
   "language": "python",
   "name": "python3"
  },
  "language_info": {
   "codemirror_mode": {
    "name": "ipython",
    "version": 3
   },
   "file_extension": ".py",
   "mimetype": "text/x-python",
   "name": "python",
   "nbconvert_exporter": "python",
   "pygments_lexer": "ipython3",
   "version": "3.12.3"
  }
 },
 "nbformat": 4,
 "nbformat_minor": 2
}
