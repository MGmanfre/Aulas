{
 "cells": [
  {
   "cell_type": "markdown",
   "metadata": {},
   "source": [
    "# Ex - 1\n",
    "**Crie um algoritmo para solicitar três valores para o usuário (a, b e c)**\n",
    "\n",
    "**Em seguida faças as seguintes operações:**\n",
    "\n",
    "a) a+b+c\n",
    "\n",
    "b) a-b-c\n",
    "\n",
    "c) a^2+2b-5.1c\n",
    "\n",
    "d) a+b=c\n",
    "\n",
    "e) c-b=b\n",
    "\n",
    "f) a+c=b-c\n"
   ]
  },
  {
   "cell_type": "code",
   "execution_count": 1,
   "metadata": {},
   "outputs": [
    {
     "name": "stdout",
     "output_type": "stream",
     "text": [
      "Equações:\n",
      "a) a+b+c\n",
      "b) a-b-c\n",
      "c) a^2+2b-5.1c\n",
      "d) a+b=c\n",
      "e) c-b=b\n",
      "f) a+c=b-c\n",
      "Valores\n",
      "a) 30.0\n",
      "b) -10.0\n",
      "c) 69.0\n",
      "d) False\n",
      "e) False\n",
      "f) False\n"
     ]
    }
   ],
   "source": [
    "\n",
    "a = float(input(\"Digite o valor de A: \"))\n",
    "b = float(input(\"Digite o valor de B: \"))\n",
    "c = float(input(\"Digite o valor de C: \"))\n",
    "\n",
    "eq1 = a+b+c\n",
    "eq2 = a-b-c\n",
    "eq3 = (a**2)+(2*b)-(5.1*c)\n",
    "eq4 = a+b==c\n",
    "eq5 = c-b==b\n",
    "eq6 = a+c==b-c\n",
    "\n",
    "print(f\"\"\"Equações:\n",
    "a) a+b+c\n",
    "b) a-b-c\n",
    "c) a^2+2b-5.1c\n",
    "d) a+b=c\n",
    "e) c-b=b\n",
    "f) a+c=b-c\n",
    "Valores\n",
    "a) {eq1}\n",
    "b) {eq2}\n",
    "c) {eq3}\n",
    "d) {eq4}\n",
    "e) {eq5}\n",
    "f) {eq6}\"\"\")"
   ]
  },
  {
   "cell_type": "markdown",
   "metadata": {},
   "source": [
    "# Ex - 2 \n",
    "**Crie um algoritmo para calcular o valor do imposto a ser pago e o valor do salário a ser recebido.**\n",
    " \n",
    "a) 10% desconto para salário de 2500 reais\n",
    "\n",
    "b) 15% desconto para salário de 3500 reais\n",
    "\n",
    "c) 25% desconto para salário de 5000 reais"
   ]
  },
  {
   "cell_type": "code",
   "execution_count": 2,
   "metadata": {},
   "outputs": [
    {
     "name": "stdout",
     "output_type": "stream",
     "text": [
      "Salários:\n",
      "1) 2500 reais\n",
      "2) 3500 reais\n",
      "3) 5000 reais\n",
      "Descontos:\n",
      "1) 250.0\n",
      "2) 525.0\n",
      "3) 1250.0\n",
      "Recebido:\n",
      "1) 2250.0\n",
      "2) 2975.0\n",
      "3) 3750.0\n"
     ]
    }
   ],
   "source": [
    "sal1 = 2500\n",
    "sal2 = 3500\n",
    "sal3 = 5000\n",
    "\n",
    "des1 = sal1*0.10\n",
    "rec1 = sal1 - des1\n",
    "des2 = sal2*0.15\n",
    "rec2 = sal2 - des2\n",
    "des3 = sal3*0.25\n",
    "rec3 = sal3 - des3\n",
    "\n",
    "print(f'''Salários:\n",
    "1) 2500 reais\n",
    "2) 3500 reais\n",
    "3) 5000 reais\n",
    "Descontos:\n",
    "1) {des1}\n",
    "2) {des2}\n",
    "3) {des3}\n",
    "Recebido:\n",
    "1) {rec1}\n",
    "2) {rec2}\n",
    "3) {rec3}''')\n"
   ]
  },
  {
   "cell_type": "markdown",
   "metadata": {},
   "source": [
    "# Ex - 3 \n",
    "**Crie um algoritmo para solicitar para dois usuários, email, senha e palavra chave. Em seguida, mostre as informações para cada usuário.**"
   ]
  },
  {
   "cell_type": "code",
   "execution_count": 3,
   "metadata": {},
   "outputs": [
    {
     "name": "stdout",
     "output_type": "stream",
     "text": [
      "Primeiro Usuário:\n",
      "miguel\n",
      "miguel@gmail.com\n",
      "1324\n",
      "sim\n",
      "Segundo Usuário:\n",
      "Tori\n",
      "tori@gmail.com\n",
      "5412\n",
      "planeta\n"
     ]
    }
   ],
   "source": [
    "u1 = str(input(\"Digite o primeiro usuário: \"))\n",
    "e1 = input(\"Digite o primeiro email: \")\n",
    "s1 = int(input(\"Digite a primeira senha: \"))\n",
    "pc1 = str(input(\"Digite a primeira palavra chave: \"))\n",
    "u2 = str(input(\"Digite o segundo usuário: \"))\n",
    "e2 = input(\"Digite o segundo email: \")\n",
    "s2 = int(input(\"Digite a segunda senha: \"))\n",
    "pc2 = str(input(\"Digite a segunda palavra chave: \"))\n",
    "\n",
    "print(f\"\"\"Primeiro Usuário:\n",
    "{u1}\n",
    "{e1}\n",
    "{s1}\n",
    "{pc1}\n",
    "Segundo Usuário:\n",
    "{u2}\n",
    "{e2}\n",
    "{s2}\n",
    "{pc2}\"\"\")"
   ]
  }
 ],
 "metadata": {
  "kernelspec": {
   "display_name": "Python 3",
   "language": "python",
   "name": "python3"
  },
  "language_info": {
   "codemirror_mode": {
    "name": "ipython",
    "version": 3
   },
   "file_extension": ".py",
   "mimetype": "text/x-python",
   "name": "python",
   "nbconvert_exporter": "python",
   "pygments_lexer": "ipython3",
   "version": "3.12.3"
  }
 },
 "nbformat": 4,
 "nbformat_minor": 2
}
