{
 "cells": [
  {
   "cell_type": "code",
   "execution_count": null,
   "id": "d3ff6627",
   "metadata": {},
   "outputs": [],
   "source": [
    "listaN = [10,20,30,40,50]\n",
    "listaC = ['a', 'b', 'c', 'd', 'e']\n",
    "listaP = ['Python', 'Java', 'C++', 'JavaScript', 'Ruby']\n",
    "\n",
    "print(\"Lista Números:\", listaN)\n",
    "print(\"Lista Caracteres:\", listaC)\n",
    "print(\"Lista Programação:\", listaP)"
   ]
  },
  {
   "cell_type": "code",
   "execution_count": 3,
   "id": "c73eaf89",
   "metadata": {},
   "outputs": [
    {
     "name": "stdout",
     "output_type": "stream",
     "text": [
      "Dicionário de Times: {'indice': [1, 2, 3, 4], 'time': ['Flamengo', 'Vasco', 'Botafogo', 'Fluminense'], 'vitorias': [10, 8, 6, 7]}\n"
     ]
    }
   ],
   "source": [
    "dicionario = {\n",
    "    'indice': [1, 2, 3, 4],\n",
    "    'time': ['Flamengo', 'Vasco', 'Botafogo', 'Fluminense'],\n",
    "    'vitorias': [10, 8, 6, 7],\n",
    "}\n",
    "print(\"Dicionário de Times:\", dicionario)"
   ]
  },
  {
   "cell_type": "code",
   "execution_count": 4,
   "id": "83e7bd70",
   "metadata": {},
   "outputs": [
    {
     "name": "stdout",
     "output_type": "stream",
     "text": [
      "DataFrame de Times:\n",
      "    indice        time  vitorias\n",
      "0       1    Flamengo        10\n",
      "1       2       Vasco         8\n",
      "2       3    Botafogo         6\n",
      "3       4  Fluminense         7\n"
     ]
    }
   ],
   "source": [
    "import pandas as pd\n",
    "\n",
    "df = pd.DataFrame(dicionario)\n",
    "print(\"DataFrame de Times:\\n\", df)"
   ]
  },
  {
   "cell_type": "code",
   "execution_count": 9,
   "id": "c782e979",
   "metadata": {},
   "outputs": [
    {
     "name": "stdout",
     "output_type": "stream",
     "text": [
      "Collecting matplotlib\n",
      "  Downloading matplotlib-3.10.5-cp313-cp313-win_amd64.whl.metadata (11 kB)\n",
      "Requirement already satisfied: contourpy>=1.0.1 in c:\\programdata\\anaconda3\\envs\\anaconda-toolbox\\lib\\site-packages (from matplotlib) (1.3.1)\n",
      "Collecting cycler>=0.10 (from matplotlib)\n",
      "  Using cached cycler-0.12.1-py3-none-any.whl.metadata (3.8 kB)\n",
      "Collecting fonttools>=4.22.0 (from matplotlib)\n",
      "  Downloading fonttools-4.59.0-cp313-cp313-win_amd64.whl.metadata (110 kB)\n",
      "Collecting kiwisolver>=1.3.1 (from matplotlib)\n",
      "  Downloading kiwisolver-1.4.9-cp313-cp313-win_amd64.whl.metadata (6.4 kB)\n",
      "Requirement already satisfied: numpy>=1.23 in c:\\programdata\\anaconda3\\envs\\anaconda-toolbox\\lib\\site-packages (from matplotlib) (2.3.1)\n",
      "Requirement already satisfied: packaging>=20.0 in c:\\programdata\\anaconda3\\envs\\anaconda-toolbox\\lib\\site-packages (from matplotlib) (24.2)\n",
      "Requirement already satisfied: pillow>=8 in c:\\programdata\\anaconda3\\envs\\anaconda-toolbox\\lib\\site-packages (from matplotlib) (11.1.0)\n",
      "Collecting pyparsing>=2.3.1 (from matplotlib)\n",
      "  Using cached pyparsing-3.2.3-py3-none-any.whl.metadata (5.0 kB)\n",
      "Requirement already satisfied: python-dateutil>=2.7 in c:\\programdata\\anaconda3\\envs\\anaconda-toolbox\\lib\\site-packages (from matplotlib) (2.9.0.post0)\n",
      "Requirement already satisfied: six>=1.5 in c:\\programdata\\anaconda3\\envs\\anaconda-toolbox\\lib\\site-packages (from python-dateutil>=2.7->matplotlib) (1.17.0)\n",
      "Downloading matplotlib-3.10.5-cp313-cp313-win_amd64.whl (8.1 MB)\n",
      "   ---------------------------------------- 0.0/8.1 MB ? eta -:--:--\n",
      "   ----- ---------------------------------- 1.0/8.1 MB 56.9 MB/s eta 0:00:01\n",
      "   --------------- ------------------------ 3.1/8.1 MB 10.5 MB/s eta 0:00:01\n",
      "   --------------- ------------------------ 3.1/8.1 MB 10.5 MB/s eta 0:00:01\n",
      "   --------------- ------------------------ 3.1/8.1 MB 10.5 MB/s eta 0:00:01\n",
      "   ------------------------ --------------- 5.0/8.1 MB 5.0 MB/s eta 0:00:01\n",
      "   ------------------------ --------------- 5.0/8.1 MB 5.0 MB/s eta 0:00:01\n",
      "   ------------------------ --------------- 5.0/8.1 MB 5.0 MB/s eta 0:00:01\n",
      "   --------------------------- ------------ 5.5/8.1 MB 3.2 MB/s eta 0:00:01\n",
      "   --------------------------------- ------ 6.8/8.1 MB 4.0 MB/s eta 0:00:01\n",
      "   --------------------------------- ------ 6.8/8.1 MB 4.0 MB/s eta 0:00:01\n",
      "   --------------------------------- ------ 6.8/8.1 MB 4.0 MB/s eta 0:00:01\n",
      "   ---------------------------------------- 8.1/8.1 MB 3.2 MB/s eta 0:00:00\n",
      "Using cached cycler-0.12.1-py3-none-any.whl (8.3 kB)\n",
      "Downloading fonttools-4.59.0-cp313-cp313-win_amd64.whl (2.2 MB)\n",
      "   ---------------------------------------- 0.0/2.2 MB ? eta -:--:--\n",
      "   --------- ------------------------------ 0.5/2.2 MB 57.8 MB/s eta 0:00:01\n",
      "   --------- ------------------------------ 0.5/2.2 MB 57.8 MB/s eta 0:00:01\n",
      "   --------- ------------------------------ 0.5/2.2 MB 57.8 MB/s eta 0:00:01\n",
      "   ---------------------------------------- 2.2/2.2 MB 2.8 MB/s eta 0:00:00\n",
      "Downloading kiwisolver-1.4.9-cp313-cp313-win_amd64.whl (73 kB)\n",
      "Using cached pyparsing-3.2.3-py3-none-any.whl (111 kB)\n",
      "Installing collected packages: pyparsing, kiwisolver, fonttools, cycler, matplotlib\n",
      "\n",
      "   ---------------- ----------------------- 2/5 [fonttools]\n",
      "   ---------------- ----------------------- 2/5 [fonttools]\n",
      "   ---------------- ----------------------- 2/5 [fonttools]\n",
      "   ---------------- ----------------------- 2/5 [fonttools]\n",
      "   ---------------- ----------------------- 2/5 [fonttools]\n",
      "   -------------------------------- ------- 4/5 [matplotlib]\n",
      "   -------------------------------- ------- 4/5 [matplotlib]\n",
      "   -------------------------------- ------- 4/5 [matplotlib]\n",
      "   -------------------------------- ------- 4/5 [matplotlib]\n",
      "   -------------------------------- ------- 4/5 [matplotlib]\n",
      "   -------------------------------- ------- 4/5 [matplotlib]\n",
      "   -------------------------------- ------- 4/5 [matplotlib]\n",
      "   -------------------------------- ------- 4/5 [matplotlib]\n",
      "   ---------------------------------------- 5/5 [matplotlib]\n",
      "\n",
      "Successfully installed cycler-0.12.1 fonttools-4.59.0 kiwisolver-1.4.9 matplotlib-3.10.5 pyparsing-3.2.3\n",
      "Note: you may need to restart the kernel to use updated packages.\n"
     ]
    },
    {
     "data": {
      "image/png": "[encoded data removed]",
      "text/plain": [
       "<Figure size 640x480 with 1 Axes>"
      ]
     },
     "metadata": {},
     "output_type": "display_data"
    }
   ],
   "source": [
    "%pip install matplotlib\n",
    "import matplotlib.pyplot as plt\n",
    "\n",
    "indice = df['indice']\n",
    "time = df['time']\n",
    "vitorias = df['vitorias']\n",
    "\n",
    "plt.bar(time, vitorias, color='blue')\n",
    "plt.show()"
   ]
  },
  {
   "cell_type": "code",
   "execution_count": 11,
   "id": "e3b86c46",
   "metadata": {},
   "outputs": [
    {
     "name": "stdout",
     "output_type": "stream",
     "text": [
      "A cor na posição 1 é red\n",
      "A cor na posição 2 é green\n",
      "A cor na posição 3 é blue\n",
      "A cor na posição 4 é yellow\n"
     ]
    }
   ],
   "source": [
    "cores = ('red', 'green', 'blue', 'yellow')\n",
    "\n",
    "for i in range(len(cores)):\n",
    "    print(f\"A cor na posição {i+1} é {cores[i]}\")"
   ]
  },
  {
   "cell_type": "code",
   "execution_count": 12,
   "id": "4ec3e81b",
   "metadata": {},
   "outputs": [
    {
     "name": "stdout",
     "output_type": "stream",
     "text": [
      "A cor na posição 1 é red\n",
      "A cor na posição 2 é green\n",
      "A cor na posição 3 é blue\n",
      "A cor na posição 4 é yellow\n"
     ]
    }
   ],
   "source": [
    "cores = ('red', 'green', 'blue', 'yellow')\n",
    "\n",
    "i = 0\n",
    "\n",
    "while i < len(cores):\n",
    "    print(f\"A cor na posição {i+1} é {cores[i]}\")\n",
    "    i += 1"
   ]
  },
  {
   "cell_type": "code",
   "execution_count": null,
   "id": "389d4011",
   "metadata": {
    "vscode": {
     "languageId": "makefile"
    }
   },
   "outputs": [
    {
     "name": "stdout",
     "output_type": "stream",
     "text": [
      "Tupla: (3, 7, 12, 5, 9)\n",
      "Soma dos elementos: 36\n",
      "Média aritmética: 7.2\n"
     ]
    }
   ],
   "source": [
    "numeros = (3, 7, 12, 5, 9)\n",
    "soma = sum(numeros)\n",
    "media = soma / len(numeros)\n",
    "\n",
    "print(\"Tupla:\", numeros)\n",
    "print(\"Soma dos elementos:\", soma)\n",
    "print(\"Média aritmética:\", media)"
   ]
  },
  {
   "cell_type": "code",
   "execution_count": null,
   "id": "d484aa68",
   "metadata": {},
   "outputs": [
    {
     "name": "stdout",
     "output_type": "stream",
     "text": [
      "A média de Ana é 8.00\n",
      "A média de joão é 7.50\n"
     ]
    }
   ],
   "source": [
    "lista_alunos = {('Ana', (6,8,10)), ('joão', (5.5,8,9))}\n",
    "\n",
    "for nome, notas in lista_alunos:\n",
    "    media = sum(notas) / len(notas)\n",
    "    print(f\"A média de {nome} é {media:.2f}\")"
   ]
  },
  {
   "cell_type": "code",
   "execution_count": null,
   "id": "4670018d",
   "metadata": {},
   "outputs": [],
   "source": []
  }
 ],
 "metadata": {
  "kernelspec": {
   "display_name": "anaconda-toolbox",
   "language": "python",
   "name": "python3"
  },
  "language_info": {
   "codemirror_mode": {
    "name": "ipython",
    "version": 3
   },
   "file_extension": ".py",
   "mimetype": "text/x-python",
   "name": "python",
   "nbconvert_exporter": "python",
   "pygments_lexer": "ipython3",
   "version": "3.13.5"
  }
 },
 "nbformat": 4,
 "nbformat_minor": 5
}
