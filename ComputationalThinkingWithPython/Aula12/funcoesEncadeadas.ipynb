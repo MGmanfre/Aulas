{
 "cells": [
  {
   "cell_type": "code",
   "execution_count": 2,
   "id": "6adf7f61",
   "metadata": {},
   "outputs": [
    {
     "name": "stdout",
     "output_type": "stream",
     "text": [
      "1\n"
     ]
    }
   ],
   "source": [
    "def factorial (n):\n",
    "    if n == 0:\n",
    "        return 1\n",
    "    else:\n",
    "        return n*factorial(n-1)\n",
    "\n",
    "print(factorial(0))"
   ]
  },
  {
   "cell_type": "code",
   "execution_count": 11,
   "id": "33c72c61",
   "metadata": {},
   "outputs": [
    {
     "name": "stdout",
     "output_type": "stream",
     "text": [
      "[20, 6, 4, 2]\n"
     ]
    }
   ],
   "source": [
    "def func1():\n",
    "    lista = [1,2,3]\n",
    "    lista.append(10)\n",
    "    return lista\n",
    "def func2():\n",
    "    lista = func1()\n",
    "    lista = [i * 2 for i in lista]\n",
    "    return lista\n",
    "def func3():\n",
    "    lista = func2()[::-1]\n",
    "    return lista\n",
    "\n",
    "print(func3())"
   ]
  },
  {
   "cell_type": "code",
   "execution_count": null,
   "id": "f500d664",
   "metadata": {},
   "outputs": [
    {
     "name": "stdout",
     "output_type": "stream",
     "text": [
      "{'times': ['sim', 'nao', 'talvez', 'sei la'], 'vitorias': [10, 20, 120, 190]}\n"
     ]
    }
   ],
   "source": [
    "times = {\n",
    "    \"times\":[],\n",
    "    \"vitorias\":[]\n",
    "}\n",
    "\n",
    "for i in range(4):\n",
    "    time = input(\"Insira um time:\")\n",
    "    vitoria = int(input(\"Insira quantidade de vitórias:\"))\n",
    "    times[\"times\"].append(time)\n",
    "    times[\"vitorias\"].append(vitoria)\n",
    "\n",
    "print(times)"
   ]
  },
  {
   "cell_type": "code",
   "execution_count": null,
   "id": "4f5762bb",
   "metadata": {},
   "outputs": [],
   "source": [
    "import pandas as pd\n",
    "\n",
    "table = pd.DataFrame(times)\n",
    "print(table)"
   ]
  }
 ],
 "metadata": {
  "kernelspec": {
   "display_name": "anaconda-toolbox",
   "language": "python",
   "name": "python3"
  },
  "language_info": {
   "codemirror_mode": {
    "name": "ipython",
    "version": 3
   },
   "file_extension": ".py",
   "mimetype": "text/x-python",
   "name": "python",
   "nbconvert_exporter": "python",
   "pygments_lexer": "ipython3",
   "version": "3.13.5"
  }
 },
 "nbformat": 4,
 "nbformat_minor": 5
}
