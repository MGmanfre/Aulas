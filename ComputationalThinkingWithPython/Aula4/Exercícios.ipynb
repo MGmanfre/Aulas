{
 "cells": [
  {
   "cell_type": "markdown",
   "metadata": {},
   "source": [
    "# Exercício 1\n",
    "\n",
    "**Crie um algoritm para elevar ao cubo apenas os valores de um range = (2,12,2)**"
   ]
  },
  {
   "cell_type": "code",
   "execution_count": null,
   "metadata": {},
   "outputs": [],
   "source": []
  },
  {
   "cell_type": "markdown",
   "metadata": {},
   "source": [
    "# Exercício 2\n",
    "\n",
    "**Crie um algoritmo para solicitar 5 valores da compra de produtos em um supermercado. Em seguida, mostre o valor total a ser pego e a media de valores.**"
   ]
  }
 ],
 "metadata": {
  "language_info": {
   "name": "python"
  }
 },
 "nbformat": 4,
 "nbformat_minor": 2
}
