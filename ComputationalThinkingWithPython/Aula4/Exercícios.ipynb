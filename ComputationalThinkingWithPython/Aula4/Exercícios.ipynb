{
 "cells": [
  {
   "cell_type": "markdown",
   "metadata": {},
   "source": [
    "# Exercício 1\n",
    "\n",
    "**Crie um algoritm para elevar ao cubo apenas os valores de um range = (2,12,2)**"
   ]
  },
  {
   "cell_type": "code",
   "execution_count": 2,
   "metadata": {},
   "outputs": [
    {
     "name": "stdout",
     "output_type": "stream",
     "text": [
      "8\n",
      "64\n",
      "216\n",
      "512\n",
      "1000\n"
     ]
    }
   ],
   "source": [
    "for i in range(2,12,2):\n",
    "    cubo = i**3\n",
    "    print(cubo)"
   ]
  },
  {
   "cell_type": "markdown",
   "metadata": {},
   "source": [
    "# Exercício 2\n",
    "\n",
    "**Crie um algoritmo para solicitar 5 valores da compra de produtos em um supermercado. Em seguida, mostre o valor total a ser pego e a media de valores.**"
   ]
  },
  {
   "cell_type": "code",
   "execution_count": 7,
   "metadata": {},
   "outputs": [
    {
     "name": "stdout",
     "output_type": "stream",
     "text": [
      "seu total:323.0 \n",
      " sua media: 64.60\n"
     ]
    }
   ],
   "source": [
    "total = 0\n",
    "for i in range(1,6):\n",
    "    valores = float(input('Digite o valor de um produto:'))\n",
    "    total += valores\n",
    "media = total/i\n",
    "print(f'seu total:{total} \\n sua media: {media:.2f}')"
   ]
  },
  {
   "cell_type": "markdown",
   "metadata": {},
   "source": [
    "# Exercício 3\n",
    "\n",
    "**Crie um algoritmo que simule uma tabuada de multiplicação. O usuário deverá escolher o a qual será multiplicado por 1 até 10 e mostrar os respectivos valores.**"
   ]
  },
  {
   "cell_type": "code",
   "execution_count": 13,
   "metadata": {},
   "outputs": [
    {
     "name": "stdout",
     "output_type": "stream",
     "text": [
      "Tabuada do 3\n",
      "1 x 3 = 3\n",
      "2 x 3 = 6\n",
      "3 x 3 = 9\n",
      "4 x 3 = 12\n",
      "5 x 3 = 15\n",
      "6 x 3 = 18\n",
      "7 x 3 = 21\n",
      "8 x 3 = 24\n",
      "9 x 3 = 27\n",
      "10 x 3 = 30\n"
     ]
    }
   ],
   "source": [
    "num = int(input('Digite o número que você queira multiplicar: '))\n",
    "print(f'Tabuada do {num}')\n",
    "for i in range(1, 11):\n",
    "    multi = i*num\n",
    "    print(f'{i} x {num} = {multi}')"
   ]
  }
 ],
 "metadata": {
  "kernelspec": {
   "display_name": "Python 3",
   "language": "python",
   "name": "python3"
  },
  "language_info": {
   "codemirror_mode": {
    "name": "ipython",
    "version": 3
   },
   "file_extension": ".py",
   "mimetype": "text/x-python",
   "name": "python",
   "nbconvert_exporter": "python",
   "pygments_lexer": "ipython3",
   "version": "3.12.3"
  }
 },
 "nbformat": 4,
 "nbformat_minor": 2
}
