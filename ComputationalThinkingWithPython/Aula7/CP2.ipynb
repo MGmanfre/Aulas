{
 "cells": [
  {
   "cell_type": "markdown",
   "metadata": {},
   "source": [
    "# EX-5"
   ]
  },
  {
   "cell_type": "code",
   "execution_count": 6,
   "metadata": {},
   "outputs": [
    {
     "name": "stdout",
     "output_type": "stream",
     "text": [
      "Nomes curtos: 9 ['wefwf', '', '', '', '', '', '', '', '']\n",
      "Nomes longos: 1 ['fdsnfs']\n"
     ]
    }
   ],
   "source": [
    "lista_nomes = []\n",
    "nomes_curtos = []\n",
    "nomes_longos = []\n",
    "contagem_curtos = 0\n",
    "contagem_longos = 0\n",
    "\n",
    "for nomes in range(1, 11):\n",
    "    nome = str(input(f\"Digite o {nomes}° nomes:\"))\n",
    "    if  len(nome) <= 5:\n",
    "        nomes_curtos.append(nome)\n",
    "        contagem_curtos += 1\n",
    "    elif len(nome) > 5:\n",
    "        nomes_longos.append(nome)\n",
    "        contagem_longos += 1\n",
    "print(f\"Nomes curtos: {contagem_curtos} {nomes_curtos}\")\n",
    "print(f\"Nomes longos: {contagem_longos} {nomes_longos}\")\n",
    "\n"
   ]
  },
  {
   "cell_type": "markdown",
   "metadata": {},
   "source": [
    "# EX-6"
   ]
  },
  {
   "cell_type": "code",
   "execution_count": 7,
   "metadata": {},
   "outputs": [
    {
     "name": "stdout",
     "output_type": "stream",
     "text": [
      "Tarefas de alta prioridade: 3 ['fonwoifenw', 'fwnefpmwpfmw', 'mfwefnweo']\n",
      "Tarefas de media prioridade: 2 ['fwempfw', 'fownfpwem']\n",
      "Tarefas de baixa prioridade: 3 ['ofmwepfnwp', 'ofnewpfnw', 'pmfwepofmw']\n"
     ]
    }
   ],
   "source": [
    "alta = []\n",
    "media = []\n",
    "baixa = []\n",
    "contagemAlta = 0\n",
    "contagemMedia = 0\n",
    "contagemBaixa = 0\n",
    "\n",
    "for tarefas in range(1, 9):\n",
    "    tarefa = input(f\"Digite a {tarefas}° tarefa: \")\n",
    "    prioridade = str(input(f\"Digite a prioridade da sua tarefa(a(alta), m(media), b(baixa)): \")).lower()\n",
    "    if prioridade == \"a\":\n",
    "        alta.append(tarefa)\n",
    "        contagemAlta += 1\n",
    "    elif prioridade == \"m\":\n",
    "        media.append(tarefa)\n",
    "        contagemMedia += 1\n",
    "    elif prioridade == \"b\":\n",
    "        baixa.append(tarefa)\n",
    "        contagemBaixa += 1\n",
    "\n",
    "print(f\"Tarefas de alta prioridade: {contagemAlta} {alta}\")    \n",
    "print(f\"Tarefas de media prioridade: {contagemMedia} {media}\")\n",
    "print(f\"Tarefas de baixa prioridade: {contagemBaixa} {baixa}\")\n"
   ]
  }
 ],
 "metadata": {
  "kernelspec": {
   "display_name": "Python 3",
   "language": "python",
   "name": "python3"
  },
  "language_info": {
   "codemirror_mode": {
    "name": "ipython",
    "version": 3
   },
   "file_extension": ".py",
   "mimetype": "text/x-python",
   "name": "python",
   "nbconvert_exporter": "python",
   "pygments_lexer": "ipython3",
   "version": "3.12.3"
  }
 },
 "nbformat": 4,
 "nbformat_minor": 2
}
