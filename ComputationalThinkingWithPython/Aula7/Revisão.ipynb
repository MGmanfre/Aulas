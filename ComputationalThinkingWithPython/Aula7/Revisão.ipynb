{
 "cells": [
  {
   "cell_type": "markdown",
   "metadata": {},
   "source": [
    "# EX-1"
   ]
  },
  {
   "cell_type": "code",
   "execution_count": 12,
   "metadata": {},
   "outputs": [
    {
     "name": "stdout",
     "output_type": "stream",
     "text": [
      "-12.22\n",
      "-12.22\n",
      "-6.67\n",
      "-6.67\n",
      "-1.11\n",
      "-1.11\n",
      "-6.666666666666668\n",
      "-40.00000000000001\n",
      "[-12.222222222222223, -12.222222222222223, -6.666666666666667, -6.666666666666667, -1.1111111111111112, -1.1111111111111112]\n",
      "Programa Encerrado\n"
     ]
    }
   ],
   "source": [
    "temp_celsius = 0\n",
    "\n",
    "lista = []\n",
    "\n",
    "while temp_fahr != 0:\n",
    "    temp_celsius = 5/9 * (temp_fahr - 32)\n",
    "    temp_fahr = float(input(\"Digite a temperatura em fahrenheit \"))\n",
    "    lista.append(temp_celsius)\n",
    "    print(f\"{temp_celsius:.2f}\")\n",
    "\n",
    "soma = 0\n",
    "\n",
    "for temp in lista:\n",
    "    soma += temp\n",
    "media = soma/len(lista)\n",
    "print(f\"{media:.2f}\")\n",
    "print(f\"{soma:.2f}\")\n",
    "print(f\"{lista:.2f}\")\n",
    "print(\"Programa Encerrado\")"
   ]
  }
 ],
 "metadata": {
  "kernelspec": {
   "display_name": "Python 3",
   "language": "python",
   "name": "python3"
  },
  "language_info": {
   "codemirror_mode": {
    "name": "ipython",
    "version": 3
   },
   "file_extension": ".py",
   "mimetype": "text/x-python",
   "name": "python",
   "nbconvert_exporter": "python",
   "pygments_lexer": "ipython3",
   "version": "3.12.3"
  }
 },
 "nbformat": 4,
 "nbformat_minor": 2
}
