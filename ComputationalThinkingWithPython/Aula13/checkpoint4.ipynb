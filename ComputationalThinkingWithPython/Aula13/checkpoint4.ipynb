{
 "cells": [
  {
   "cell_type": "code",
   "execution_count": 1,
   "id": "422fa0f6",
   "metadata": {},
   "outputs": [
    {
     "name": "stdout",
     "output_type": "stream",
     "text": [
      "[['João', 'Maria'], [30, 25], ['m', 'f']]\n"
     ]
    }
   ],
   "source": [
    "dados = [[],[],[]]\n",
    "contador = 0\n",
    "while contador < 2:\n",
    "# [nomes, idades, sexos]\n",
    "    nome = input(\"Nome: \")\n",
    "    dados[0].append(nome)\n",
    "    idade = int(input(\"Idade: \"))\n",
    "    dados [1].append(idade)\n",
    "    sexo = input(\"Sexo (M/F): \").lower()\n",
    "    dados [2].append(sexo)\n",
    "    contador += 1\n",
    "print(dados)"
   ]
  },
  {
   "cell_type": "code",
   "execution_count": 3,
   "id": "3a8635af",
   "metadata": {},
   "outputs": [
    {
     "name": "stdout",
     "output_type": "stream",
     "text": [
      "[25, 30, 18]\n"
     ]
    }
   ],
   "source": [
    "idades = []\n",
    "contador = 0\n",
    "while contador < 3:\n",
    "    idade = int(input(\"Idade: \"))\n",
    "    if idade < 0:\n",
    "        continue\n",
    "    idades.append(idade)\n",
    "    contador += 1\n",
    "print(idades)"
   ]
  },
  {
   "cell_type": "code",
   "execution_count": 6,
   "id": "75593699",
   "metadata": {},
   "outputs": [
    {
     "name": "stdout",
     "output_type": "stream",
     "text": [
      "NOME:\n",
      "- CARLOS\n",
      "- ANA\n",
      "IDADE:\n",
      "- 23\n",
      "- 18\n",
      "CURSO:\n",
      "- engenharia elétrica\n",
      "- engenharia de software\n"
     ]
    }
   ],
   "source": [
    "dic_lista = {\n",
    "    'nome': ['carlos', 'ana'],\n",
    "    'idade': [23, 18],\n",
    "    'curso': ['engenharia elétrica', 'engenharia de software']\n",
    "}\n",
    "for chave, valores in dic_lista.items():\n",
    "    print(chave.upper()+\":\")\n",
    "    for valor in valores:\n",
    "        if chave == \"nome\":\n",
    "            print(\"-\", valor.upper())\n",
    "        else:\n",
    "            print(\"-\", valor)"
   ]
  },
  {
   "cell_type": "code",
   "execution_count": 7,
   "id": "4a39e936",
   "metadata": {},
   "outputs": [
    {
     "data": {
      "text/plain": [
       "98.1"
      ]
     },
     "execution_count": 7,
     "metadata": {},
     "output_type": "execute_result"
    }
   ],
   "source": [
    "def preco_final(v):\n",
    "    return aplicar_desconto(v+10)\n",
    "def aplicar_desconto (v):\n",
    "    return arredondar (v * 0.9)\n",
    "def arredondar(v):\n",
    "    return round(v, 2)\n",
    "\n",
    "preco_final(99)"
   ]
  },
  {
   "cell_type": "code",
   "execution_count": null,
   "id": "289b257a",
   "metadata": {},
   "outputs": [
    {
     "name": "stdout",
     "output_type": "stream",
     "text": [
      "TV: 1500.0 x 3 = 4500.0\n",
      "Geladeira: 2000.0 x 2 = 4000.0\n",
      "Microondas: 800.0 x 5 = 4000.0\n",
      "Custo total: 12500.0\n"
     ]
    }
   ],
   "source": [
    "estoque = (\n",
    "    (\"TV\", (1500.0, 3)),\n",
    "    (\"Geladeira\", (2000.0, 2)),\n",
    "    (\"Microondas\", (800.0, 5))\n",
    ")\n",
    "\n",
    "custo_total = 0\n",
    "for produto, (preco, quantidade) in estoque:\n",
    "    custo = preco * quantidade\n",
    "    print(f\"{produto}: {preco} x {quantidade} = {custo}\")\n",
    "    custo_total += custo\n",
    "\n",
    "print(f\"Custo total: {custo_total}\")"
   ]
  },
  {
   "cell_type": "code",
   "execution_count": null,
   "id": "ef3c2876",
   "metadata": {},
   "outputs": [
    {
     "name": "stdout",
     "output_type": "stream",
     "text": [
      "Dados cadastrados:\n",
      "                sp       rs          mt\n",
      "temperatura   12.0      2.0        30.0\n",
      "umidade       30.0     40.0        50.0\n",
      "condicao     chuva  nublado  ensolarado\n",
      "Dados atualizados:\n",
      "                     sp       rs          mt\n",
      "temperatura        12.0      2.0        16.0\n",
      "umidade            30.0     20.0        50.0\n",
      "condicao     ensolarado  nublado  ensolarado\n"
     ]
    }
   ],
   "source": [
    "import pandas as pd\n",
    "\n",
    "clima = {}\n",
    "\n",
    "for i in range(1, 4):\n",
    "    cidade = input(f\"Nome da cidade {i}: \")\n",
    "    clima[cidade] = {}\n",
    "    temperatura = float(input(f\"Temperatura média (°C) de {cidade}: \"))\n",
    "    clima[cidade]['temperatura'] = temperatura\n",
    "    umidade = float(input(f\"Umidade relativa (%) de {cidade}: \"))\n",
    "    clima[cidade]['umidade'] = umidade\n",
    "    condicao = input(f\"Condição do tempo de {cidade} (ex.: 'chuva', 'ensolarado', 'nublado'): \")\n",
    "    clima[cidade]['condicao'] = condicao\n",
    "\n",
    "#A)\n",
    "print(\"Dados cadastrados:\")\n",
    "climaDB = pd.DataFrame(clima)\n",
    "print(climaDB)\n",
    "\n",
    "#B)\n",
    "primeira_cidade = list(clima.keys())[0]\n",
    "nova_condicao = input(f\"Nova condição do tempo para {primeira_cidade} (ex.: 'chuva', 'ensolarado', 'nublado'): \")\n",
    "clima[primeira_cidade]['condicao'] = nova_condicao\n",
    "#############################################################################################\n",
    "segunda_cidade = list(clima.keys())[1]\n",
    "nova_umidade = float(input(f\"Nova umidade relativa (%) para {segunda_cidade}: \"))\n",
    "clima[segunda_cidade]['umidade'] = nova_umidade\n",
    "#############################################################################################\n",
    "terceira_cidade = list(clima.keys())[2]\n",
    "nova_temperatura = float(input(f\"Nova temperatura média (°C) para {terceira_cidade}: \"))\n",
    "clima[terceira_cidade]['temperatura'] = nova_temperatura\n",
    "\n",
    "#C)\n",
    "print(\"\\n Dados atualizados:\")\n",
    "climaDB = pd.DataFrame(clima)\n",
    "print(climaDB)"
   ]
  }
 ],
 "metadata": {
  "kernelspec": {
   "display_name": "anaconda-toolbox",
   "language": "python",
   "name": "python3"
  },
  "language_info": {
   "codemirror_mode": {
    "name": "ipython",
    "version": 3
   },
   "file_extension": ".py",
   "mimetype": "text/x-python",
   "name": "python",
   "nbconvert_exporter": "python",
   "pygments_lexer": "ipython3",
   "version": "3.13.5"
  }
 },
 "nbformat": 4,
 "nbformat_minor": 5
}
