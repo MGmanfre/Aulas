{
 "cells": [
  {
   "cell_type": "markdown",
   "metadata": {},
   "source": [
    "# Tópicos da aula\n",
    "- Estrutura de condição aninhada\n",
    "- Correção do CP1\n",
    "- CP2 (30/04/2025)"
   ]
  },
  {
   "cell_type": "code",
   "execution_count": 7,
   "metadata": {},
   "outputs": [
    {
     "name": "stdout",
     "output_type": "stream",
     "text": [
      "['ana', 'laura', 'pedro', 'melissa']\n",
      "['111', '222', '333', '444']\n"
     ]
    }
   ],
   "source": [
    "lista_nomes = ['ana','laura','pedro','melissa']\n",
    "lista_cep = ['111','222','333','444']\n",
    "\n",
    "print(lista_nomes)\n",
    "print(lista_cep)\n"
   ]
  },
  {
   "cell_type": "code",
   "execution_count": 10,
   "metadata": {},
   "outputs": [
    {
     "name": "stdout",
     "output_type": "stream",
     "text": [
      "{'nome': ['ana', 'laura', 'pedro', 'melissa'], 'cep': ['111', '222', '333', '444']}\n"
     ]
    },
    {
     "data": {
      "text/html": [
       "<div>\n",
       "<style scoped>\n",
       "    .dataframe tbody tr th:only-of-type {\n",
       "        vertical-align: middle;\n",
       "    }\n",
       "\n",
       "    .dataframe tbody tr th {\n",
       "        vertical-align: top;\n",
       "    }\n",
       "\n",
       "    .dataframe thead th {\n",
       "        text-align: right;\n",
       "    }\n",
       "</style>\n",
       "<table border=\"1\" class=\"dataframe\">\n",
       "  <thead>\n",
       "    <tr style=\"text-align: right;\">\n",
       "      <th></th>\n",
       "      <th>nome</th>\n",
       "      <th>cep</th>\n",
       "    </tr>\n",
       "  </thead>\n",
       "  <tbody>\n",
       "    <tr>\n",
       "      <th>0</th>\n",
       "      <td>ana</td>\n",
       "      <td>111</td>\n",
       "    </tr>\n",
       "    <tr>\n",
       "      <th>1</th>\n",
       "      <td>laura</td>\n",
       "      <td>222</td>\n",
       "    </tr>\n",
       "    <tr>\n",
       "      <th>2</th>\n",
       "      <td>pedro</td>\n",
       "      <td>333</td>\n",
       "    </tr>\n",
       "    <tr>\n",
       "      <th>3</th>\n",
       "      <td>melissa</td>\n",
       "      <td>444</td>\n",
       "    </tr>\n",
       "  </tbody>\n",
       "</table>\n",
       "</div>"
      ],
      "text/plain": [
       "      nome  cep\n",
       "0      ana  111\n",
       "1    laura  222\n",
       "2    pedro  333\n",
       "3  melissa  444"
      ]
     },
     "execution_count": 10,
     "metadata": {},
     "output_type": "execute_result"
    }
   ],
   "source": [
    "dicionario = {\n",
    "    'nome' : ['ana','laura','pedro','melissa'],\n",
    "    'cep' : ['111','222','333','444']\n",
    "}\n",
    "\n",
    "print(dicionario)\n",
    "\n",
    "import pandas as pd \n",
    "\n",
    "dataframe = pd.DataFrame(dicionario)\n",
    "dataframe"
   ]
  },
  {
   "cell_type": "code",
   "execution_count": 13,
   "metadata": {},
   "outputs": [
    {
     "name": "stdout",
     "output_type": "stream",
     "text": [
      "['abacaxi']\n",
      "['abacaxi', 'ananas']\n",
      "['abacaxi', 'ananas', 'carambola']\n",
      "['abacaxi', 'ananas', 'carambola', 'pabre']\n",
      "['abacaxi', 'ananas', 'carambola', 'pabre', 'ovo']\n",
      "maça\n",
      "banana\n",
      "laranja\n",
      "10\n",
      "20\n",
      "30\n",
      "40\n",
      "50\n"
     ]
    }
   ],
   "source": [
    "#Ex.1\n",
    "\n",
    "lista_frutas = []\n",
    "\n",
    "for k in range (5):\n",
    "    frutas = input(\"Digite sua fruta favorita:\")\n",
    "    lista_frutas.append(frutas)\n",
    "    print(lista_frutas)\n",
    "\n",
    "lista_frutas = ['maça','banana','laranja']\n",
    "\n",
    "for k in lista_frutas:\n",
    "    print(k)\n",
    "\n",
    "lista_numeros = [10,20,30,40,50]\n",
    "\n",
    "for k in lista_numeros:\n",
    "    print(k)"
   ]
  },
  {
   "cell_type": "code",
   "execution_count": 14,
   "metadata": {},
   "outputs": [
    {
     "name": "stdout",
     "output_type": "stream",
     "text": [
      "['maça']\n",
      "['maça', 'maça']\n",
      "['maça', 'maça', 'mala']\n",
      "['maça', 'maça', 'mala', 's']\n",
      "['maça', 'maça', 'mala', 's', 's']\n",
      "maça\n"
     ]
    }
   ],
   "source": [
    "#Ex.2\n",
    "\n",
    "lista_frutas = []\n",
    "\n",
    "for k in range (5):\n",
    "    frutas = input(\"Digite sua fruta favorita:\")\n",
    "    lista_frutas.append(frutas)\n",
    "    print(lista_frutas)\n",
    "\n",
    "for i in lista_frutas:\n",
    "    if i==\"maça\":\n",
    "        print(i)\n",
    "        break"
   ]
  },
  {
   "cell_type": "code",
   "execution_count": 2,
   "metadata": {},
   "outputs": [
    {
     "name": "stdout",
     "output_type": "stream",
     "text": [
      "[]\n",
      "[]\n"
     ]
    }
   ],
   "source": [
    "#Ex.3\n",
    "\n",
    "listaNome = []\n",
    "listaCpf = []\n",
    "\n",
    "for k in range(5):\n",
    "    nome = input(\"Digite seu nome: \")\n",
    "    cpf = float(input(\"Digite seu cpf: \"))\n",
    "    listaNome.append(nome)\n",
    "    listaCpf.append(cpf)\n",
    "print(listaNome)\n",
    "print(listaCpf)"
   ]
  },
  {
   "cell_type": "code",
   "execution_count": 8,
   "metadata": {},
   "outputs": [
    {
     "name": "stdout",
     "output_type": "stream",
     "text": [
      "Fruta 0: maça\n",
      "Fruta 1: banana\n",
      "Fruta 2: laranja\n"
     ]
    }
   ],
   "source": [
    "lista_frutas = ['maça','banana','laranja']\n",
    "\n",
    "for i in range (len(lista_frutas)):\n",
    "    print(f'Fruta {i}: {lista_frutas[i]}')"
   ]
  },
  {
   "cell_type": "code",
   "execution_count": 18,
   "metadata": {},
   "outputs": [
    {
     "name": "stdout",
     "output_type": "stream",
     "text": [
      "p\n",
      "y\n",
      "t\n",
      "h\n",
      "o\n",
      "n\n"
     ]
    }
   ],
   "source": [
    "texto = 'python'\n",
    "\n",
    "for letra in texto:\n",
    "    print(letra)"
   ]
  },
  {
   "cell_type": "code",
   "execution_count": 19,
   "metadata": {},
   "outputs": [
    {
     "name": "stdout",
     "output_type": "stream",
     "text": [
      "20\n"
     ]
    }
   ],
   "source": [
    "numeros = [2,4,6,8]\n",
    "soma = 0\n",
    "\n",
    "for k in numeros:\n",
    "    soma += k \n",
    "print(soma)\n",
    "\n"
   ]
  },
  {
   "cell_type": "code",
   "execution_count": 21,
   "metadata": {},
   "outputs": [
    {
     "name": "stdout",
     "output_type": "stream",
     "text": [
      "O quadrado de 2 é 4\n",
      "O quadrado de 4 é 16\n",
      "O quadrado de 6 é 36\n",
      "O quadrado de 8 é 64\n"
     ]
    }
   ],
   "source": [
    "numeros = [2,4,6,8]\n",
    "\n",
    "for numero in numeros:\n",
    "    quadrado = numero **2\n",
    "    print(f\"O quadrado de {numero} é {quadrado}\")"
   ]
  },
  {
   "cell_type": "code",
   "execution_count": 27,
   "metadata": {},
   "outputs": [
    {
     "name": "stdout",
     "output_type": "stream",
     "text": [
      "['computador', 'programação']\n"
     ]
    }
   ],
   "source": [
    "palavras = ['casa', 'computador', 'sol', 'programação']\n",
    "lista_nova = []\n",
    "\n",
    "for i in (palavras):\n",
    "    if len(i)>5:\n",
    "        lista_nova.append(i)\n",
    "print(lista_nova)\n"
   ]
  },
  {
   "cell_type": "code",
   "execution_count": 29,
   "metadata": {},
   "outputs": [
    {
     "name": "stdout",
     "output_type": "stream",
     "text": [
      "30\n"
     ]
    }
   ],
   "source": [
    "#Crie um algoritmo para somar apenas os números pares da lista\n",
    "\n",
    "lista = [1,4,7,10,13,16]\n",
    "soma_pares = 0\n",
    "\n",
    "for k in lista:\n",
    "    if k % 2==0:\n",
    "        soma_pares += k \n",
    "print(soma_pares)\n"
   ]
  },
  {
   "cell_type": "markdown",
   "metadata": {},
   "source": [
    "Exercícos \n",
    "\n",
    "1. Solicitar 5 produtos e seus preços, armazenar em listas separadas, retornar os respectivos produtos e preços, além do valor total dos produtos.\n",
    "   \n",
    "2. Cálculo de descontos na folha de pagamento. Solicitar 5 nomes e salários,  calcular desconto conforme faixa salarial e mostrar salário líquido.\n",
    "\n",
    "<= 1500 - 0,05\n",
    "1500 < desconto <= 3000\n",
    ".>3000 - 0,15\n",
    "\n",
    "Retornar os repectivos valores em uma lista.\n",
    "   \n",
    "\n"
   ]
  },
  {
   "cell_type": "code",
   "execution_count": 5,
   "metadata": {},
   "outputs": [
    {
     "name": "stdout",
     "output_type": "stream",
     "text": [
      "Produtos:  ['opa', 'opa', 'opa', 'opa', 'opa']\n",
      "Preços:  [100.0, 200.0, 100.0, 900.0, 999.0]\n",
      "Valor total:  2299.0\n"
     ]
    }
   ],
   "source": [
    "produtos = []\n",
    "precos = []\n",
    "total = 0\n",
    "\n",
    "for i in range(5):\n",
    "    produto = input(f\"Digite o nome do produto {i+1}: \")\n",
    "    preco = float(input(f\"Digite o preço do produto {i+1}\"))\n",
    "\n",
    "    produtos.append(produto)\n",
    "    precos.append(preco)\n",
    "    total += preco\n",
    "\n",
    "print(\"Produtos: \", produtos)\n",
    "print(\"Preços: \", precos)\n",
    "print(\"Valor total: \", total)\n"
   ]
  },
  {
   "cell_type": "code",
   "execution_count": 8,
   "metadata": {},
   "outputs": [
    {
     "name": "stdout",
     "output_type": "stream",
     "text": [
      "Salários líquidos por funcionários: \n",
      "[('vagner', 950.0), ('igor', 8500.0), ('gabriel', 17000.0), ('sobra', 170000.0), ('carlos', 950.0)]\n"
     ]
    }
   ],
   "source": [
    "nomes = []\n",
    "salarios = []\n",
    "salarios_liquidos = []\n",
    "\n",
    "for i in range(5):\n",
    "    nome = input(f\"Digite o nome do funcionário {i+1}: \")\n",
    "    salario = float(input(f\"Digte o salário de {nome}: \"))\n",
    "    \n",
    "    if salario <= 1500:\n",
    "        desconto = 0.05\n",
    "    elif salario <= 3000:\n",
    "        desconto = 0.10\n",
    "    else: \n",
    "        desconto = 0.15\n",
    "    \n",
    "    salario_liquido = salario * (1 - desconto)\n",
    "\n",
    "    nomes.append(nome)\n",
    "    salarios.append(salario_liquido)\n",
    "    salarios_liquidos.append((nome, salario_liquido))\n",
    "\n",
    "print(\"Salários líquidos por funcionários: \")\n",
    "print(salarios_liquidos)"
   ]
  }
 ],
 "metadata": {
  "kernelspec": {
   "display_name": "Python 3",
   "language": "python",
   "name": "python3"
  },
  "language_info": {
   "codemirror_mode": {
    "name": "ipython",
    "version": 3
   },
   "file_extension": ".py",
   "mimetype": "text/x-python",
   "name": "python",
   "nbconvert_exporter": "python",
   "pygments_lexer": "ipython3",
   "version": "3.12.3"
  }
 },
 "nbformat": 4,
 "nbformat_minor": 2
}
