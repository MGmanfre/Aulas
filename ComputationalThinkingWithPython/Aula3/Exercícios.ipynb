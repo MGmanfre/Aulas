{
 "cells": [
  {
   "cell_type": "markdown",
   "metadata": {},
   "source": [
    "# Ex 1\n",
    "\n",
    "**Escreva um programa que permita inserir uma determinada velocidade. Caso o usuário ultrapasse 80km/h, acrescente uma multa de R$ 50,00 a cada 1km/h**\n",
    "\n",
    "retorne o valor da multa a ser pago."
   ]
  },
  {
   "cell_type": "code",
   "execution_count": 9,
   "metadata": {},
   "outputs": [
    {
     "name": "stdout",
     "output_type": "stream",
     "text": [
      "vc foi multado em R$25 por não dirigir na velocidade mínima\n"
     ]
    }
   ],
   "source": [
    "veluser = int(input(\"Digite a velocidade em km/h: \"))\n",
    "velmax = 80\n",
    "velmin = 50\n",
    "if veluser > velmax:\n",
    "    multa = (veluser-velmax)*50\n",
    "    print(f\"você foi multado em R${multa} por ultrapassar a velocidade máxima\")\n",
    "elif veluser < velmin:\n",
    "    multa = ((veluser-velmin)*-1)*25\n",
    "    print(f\"você foi multado em R${multa1} por não dirigir na velocidade mínima\")\n",
    "else:\n",
    "    print(\"você está na velocidade adequada\")"
   ]
  },
  {
   "cell_type": "markdown",
   "metadata": {},
   "source": [
    "# Ex 2\n",
    "\n",
    "Verifique se um número é impar ou par através de um input"
   ]
  },
  {
   "cell_type": "code",
   "execution_count": 14,
   "metadata": {},
   "outputs": [
    {
     "name": "stdout",
     "output_type": "stream",
     "text": [
      "Seu número é par\n"
     ]
    }
   ],
   "source": [
    "num = int(input(\"Digite um número: \"))\n",
    "\n",
    "if num %2 == 0:\n",
    "    print(\"Seu número é par\")\n",
    "else:\n",
    "    print(\"Seu número é impar\")"
   ]
  },
  {
   "cell_type": "markdown",
   "metadata": {},
   "source": [
    "# Ex 3\n",
    "\n",
    "Crie uma calculadora simples com dois inputs e que o usuário coloque a operação (+,-,*,/)\n"
   ]
  },
  {
   "cell_type": "code",
   "execution_count": 20,
   "metadata": {},
   "outputs": [
    {
     "name": "stdout",
     "output_type": "stream",
     "text": [
      "1.0\n"
     ]
    }
   ],
   "source": [
    "num1 = float(input(\"Digite o primeiro número: \"))\n",
    "operador = input(\"Digite o operador que queira usar(+,-,*,/): \")\n",
    "num2 = float(input(\"Digite o segundo número: \"))\n",
    "\n",
    "if operador == \"/\":\n",
    "    result = num1/num2\n",
    "    print(result)\n",
    "elif operador == \"*\":\n",
    "    result = num1*num2\n",
    "    print(result)\n",
    "elif operador == \"+\":\n",
    "    result = num1+num2\n",
    "    print(result)\n",
    "elif operador == \"-\":\n",
    "    result = num1-num2\n",
    "    print(result)\n",
    "else:\n",
    "    print(\"Operador errado!\")"
   ]
  }
 ],
 "metadata": {
  "kernelspec": {
   "display_name": "Python 3",
   "language": "python",
   "name": "python3"
  },
  "language_info": {
   "codemirror_mode": {
    "name": "ipython",
    "version": 3
   },
   "file_extension": ".py",
   "mimetype": "text/x-python",
   "name": "python",
   "nbconvert_exporter": "python",
   "pygments_lexer": "ipython3",
   "version": "3.12.3"
  }
 },
 "nbformat": 4,
 "nbformat_minor": 2
}
