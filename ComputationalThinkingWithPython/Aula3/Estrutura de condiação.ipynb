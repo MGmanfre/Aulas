{
 "cells": [
  {
   "cell_type": "code",
   "execution_count": null,
   "metadata": {},
   "outputs": [],
   "source": [
    "num1 = int(input(\"Insira o primeiro número: \"))\n",
    "num2 = int(input(\"Insira o segundo número: \"))\n",
    "dia = input(\"Digite o dia da semana: \").upper()\n",
    "\n",
    "if num1 > num2 and dia == 'quarta':\n",
    "    print(\"Número 1 é maior e hoje é quarta-feira!\")\n",
    "elif num1 == num2:\n",
    "    print(\"Os números são iguais!\")\n",
    "else:\n",
    "    print(\"Número 2 é maior\")"
   ]
  }
 ],
 "metadata": {
  "language_info": {
   "name": "python"
  }
 },
 "nbformat": 4,
 "nbformat_minor": 2
}
