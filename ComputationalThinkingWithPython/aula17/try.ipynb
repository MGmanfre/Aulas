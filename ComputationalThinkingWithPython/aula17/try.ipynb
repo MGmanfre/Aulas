{
 "cells": [
  {
   "cell_type": "code",
   "execution_count": null,
   "id": "06c4184a",
   "metadata": {},
   "outputs": [
    {
     "name": "stdout",
     "output_type": "stream",
     "text": [
      "Erro: A coluna 'vendas' não existe no DataFrame.\n"
     ]
    }
   ],
   "source": [
    "import pandas as pd\n",
    "\n",
    "dados = {\n",
    "    'produto': ['A', 'B', 'C', 'D'],\n",
    "    'vendas': [100, 150, 200, 250],\n",
    "    'lucro': [20, 30, 50, 70],\n",
    "    'ano': [2020, 2020, 2021, 2021],\n",
    "}\n",
    "\n",
    "df = pd.DataFrame(dados)\n",
    "\n",
    "try:\n",
    "    media = df['vendas'].mean()\n",
    "    print(f'Média de vendas: {media}')\n",
    "except KeyError:\n",
    "    print(\"Erro: A coluna 'vendas' não existe no DataFrame.\")"
   ]
  },
  {
   "cell_type": "code",
   "execution_count": 8,
   "id": "d4220a1f",
   "metadata": {},
   "outputs": [
    {
     "name": "stdout",
     "output_type": "stream",
     "text": [
      "Conta criada com sucesso!\n",
      "  usuario     senha\n",
      "0   admin  senha123\n",
      "1   user1  senha456\n",
      "2  miguel    123456\n",
      "3   vitor  senha789\n",
      "Operação cancelada.\n"
     ]
    }
   ],
   "source": [
    "import pandas as pd\n",
    "\n",
    "login = {\n",
    "    'usuario': ['admin', 'user1', 'miguel'],\n",
    "    'senha': ['senha123', 'senha456', '123456'],\n",
    "}\n",
    "\n",
    "df_login = pd.DataFrame(login)\n",
    "\n",
    "user = input('Digite o nome de usuário: ')\n",
    "password = input('Digite a senha: ')\n",
    "while True:\n",
    "    try:\n",
    "        if df_login['usuario'] == user and df_login['senha'] == password:\n",
    "            print('Login bem-sucedido!')\n",
    "    except Exception as e:\n",
    "        confirmation = input('Usuário e senha incorretos, deseja criar uma conta?(y/n)').lower()\n",
    "        if confirmation == 'y':\n",
    "            regisUser = input('Digite o nome de usuário:')\n",
    "            regisPass = input('Digite sua senha:')\n",
    "            nova_linha = pd.DataFrame({'usuario': [regisUser], 'senha': [regisPass]})\n",
    "            df_login = pd.concat([df_login, nova_linha], ignore_index=True)\n",
    "            print('Conta criada com sucesso!')\n",
    "            print(df_login)\n",
    "        else:\n",
    "            print('Operação cancelada.')\n",
    "            break\n",
    "        "
   ]
  },
  {
   "cell_type": "code",
   "execution_count": 10,
   "id": "3d758dec",
   "metadata": {},
   "outputs": [
    {
     "name": "stdout",
     "output_type": "stream",
     "text": [
      "             name\n",
      "0           Album\n",
      "1          Artist\n",
      "2        Customer\n",
      "3        Employee\n",
      "4           Genre\n",
      "5         Invoice\n",
      "6     InvoiceLine\n",
      "7       MediaType\n",
      "8        Playlist\n",
      "9   PlaylistTrack\n",
      "10          Track\n"
     ]
    }
   ],
   "source": [
    "import sqlite3\n",
    "import pandas as pd\n",
    "\n",
    "caminhoDB = r'C:\\Users\\labsfiap\\AppData\\Roaming\\DBeaverData\\workspace6\\.metadata\\sample-database-sqlite-1\\Chinook.db'\n",
    "\n",
    "conection = sqlite3.connect(caminhoDB)\n",
    "\n",
    "queryTabelas = 'SELECT name FROM sqlite_master WHERE type=\"table\";'\n",
    "tabelas = pd.read_sql_query(queryTabelas, conection)\n",
    "print(tabelas)"
   ]
  }
 ],
 "metadata": {
  "kernelspec": {
   "display_name": "anaconda-toolbox",
   "language": "python",
   "name": "python3"
  },
  "language_info": {
   "codemirror_mode": {
    "name": "ipython",
    "version": 3
   },
   "file_extension": ".py",
   "mimetype": "text/x-python",
   "name": "python",
   "nbconvert_exporter": "python",
   "pygments_lexer": "ipython3",
   "version": "3.13.5"
  }
 },
 "nbformat": 4,
 "nbformat_minor": 5
}
