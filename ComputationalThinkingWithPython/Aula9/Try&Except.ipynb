{
 "cells": [
  {
   "cell_type": "markdown",
   "metadata": {},
   "source": [
    "# EX - 1"
   ]
  },
  {
   "cell_type": "code",
   "execution_count": 7,
   "metadata": {},
   "outputs": [
    {
     "data": {
      "text/html": [
       "<div>\n",
       "<style scoped>\n",
       "    .dataframe tbody tr th:only-of-type {\n",
       "        vertical-align: middle;\n",
       "    }\n",
       "\n",
       "    .dataframe tbody tr th {\n",
       "        vertical-align: top;\n",
       "    }\n",
       "\n",
       "    .dataframe thead th {\n",
       "        text-align: right;\n",
       "    }\n",
       "</style>\n",
       "<table border=\"1\" class=\"dataframe\">\n",
       "  <thead>\n",
       "    <tr style=\"text-align: right;\">\n",
       "      <th></th>\n",
       "      <th>UDI</th>\n",
       "      <th>ID Produto</th>\n",
       "      <th>Tipo</th>\n",
       "      <th>Temperatura Ar [K]</th>\n",
       "      <th>Temperatura Processo [K]</th>\n",
       "      <th>Velocidade Rotacao [rpm]</th>\n",
       "      <th>Torque [Nm]</th>\n",
       "      <th>Desgaste Ferramenta [min]</th>\n",
       "      <th>Alvo</th>\n",
       "      <th>Tipo da Falha</th>\n",
       "    </tr>\n",
       "  </thead>\n",
       "  <tbody>\n",
       "    <tr>\n",
       "      <th>0</th>\n",
       "      <td>1</td>\n",
       "      <td>M14860</td>\n",
       "      <td>M</td>\n",
       "      <td>298.1</td>\n",
       "      <td>308.6</td>\n",
       "      <td>1551</td>\n",
       "      <td>42.8</td>\n",
       "      <td>0</td>\n",
       "      <td>0</td>\n",
       "      <td>No Failure</td>\n",
       "    </tr>\n",
       "    <tr>\n",
       "      <th>1</th>\n",
       "      <td>2</td>\n",
       "      <td>L47181</td>\n",
       "      <td>L</td>\n",
       "      <td>298.2</td>\n",
       "      <td>308.7</td>\n",
       "      <td>1408</td>\n",
       "      <td>46.3</td>\n",
       "      <td>3</td>\n",
       "      <td>0</td>\n",
       "      <td>No Failure</td>\n",
       "    </tr>\n",
       "    <tr>\n",
       "      <th>2</th>\n",
       "      <td>3</td>\n",
       "      <td>L47182</td>\n",
       "      <td>L</td>\n",
       "      <td>298.1</td>\n",
       "      <td>308.5</td>\n",
       "      <td>1498</td>\n",
       "      <td>49.4</td>\n",
       "      <td>5</td>\n",
       "      <td>0</td>\n",
       "      <td>No Failure</td>\n",
       "    </tr>\n",
       "    <tr>\n",
       "      <th>3</th>\n",
       "      <td>4</td>\n",
       "      <td>L47183</td>\n",
       "      <td>L</td>\n",
       "      <td>298.2</td>\n",
       "      <td>308.6</td>\n",
       "      <td>1433</td>\n",
       "      <td>39.5</td>\n",
       "      <td>7</td>\n",
       "      <td>0</td>\n",
       "      <td>No Failure</td>\n",
       "    </tr>\n",
       "    <tr>\n",
       "      <th>4</th>\n",
       "      <td>5</td>\n",
       "      <td>L47184</td>\n",
       "      <td>L</td>\n",
       "      <td>298.2</td>\n",
       "      <td>308.7</td>\n",
       "      <td>1408</td>\n",
       "      <td>40.0</td>\n",
       "      <td>9</td>\n",
       "      <td>0</td>\n",
       "      <td>No Failure</td>\n",
       "    </tr>\n",
       "    <tr>\n",
       "      <th>...</th>\n",
       "      <td>...</td>\n",
       "      <td>...</td>\n",
       "      <td>...</td>\n",
       "      <td>...</td>\n",
       "      <td>...</td>\n",
       "      <td>...</td>\n",
       "      <td>...</td>\n",
       "      <td>...</td>\n",
       "      <td>...</td>\n",
       "      <td>...</td>\n",
       "    </tr>\n",
       "    <tr>\n",
       "      <th>9995</th>\n",
       "      <td>9996</td>\n",
       "      <td>M24855</td>\n",
       "      <td>M</td>\n",
       "      <td>298.8</td>\n",
       "      <td>308.4</td>\n",
       "      <td>1604</td>\n",
       "      <td>29.5</td>\n",
       "      <td>14</td>\n",
       "      <td>0</td>\n",
       "      <td>No Failure</td>\n",
       "    </tr>\n",
       "    <tr>\n",
       "      <th>9996</th>\n",
       "      <td>9997</td>\n",
       "      <td>H39410</td>\n",
       "      <td>H</td>\n",
       "      <td>298.9</td>\n",
       "      <td>308.4</td>\n",
       "      <td>1632</td>\n",
       "      <td>31.8</td>\n",
       "      <td>17</td>\n",
       "      <td>0</td>\n",
       "      <td>No Failure</td>\n",
       "    </tr>\n",
       "    <tr>\n",
       "      <th>9997</th>\n",
       "      <td>9998</td>\n",
       "      <td>M24857</td>\n",
       "      <td>M</td>\n",
       "      <td>299.0</td>\n",
       "      <td>308.6</td>\n",
       "      <td>1645</td>\n",
       "      <td>33.4</td>\n",
       "      <td>22</td>\n",
       "      <td>0</td>\n",
       "      <td>No Failure</td>\n",
       "    </tr>\n",
       "    <tr>\n",
       "      <th>9998</th>\n",
       "      <td>9999</td>\n",
       "      <td>H39412</td>\n",
       "      <td>H</td>\n",
       "      <td>299.0</td>\n",
       "      <td>308.7</td>\n",
       "      <td>1408</td>\n",
       "      <td>48.5</td>\n",
       "      <td>25</td>\n",
       "      <td>0</td>\n",
       "      <td>No Failure</td>\n",
       "    </tr>\n",
       "    <tr>\n",
       "      <th>9999</th>\n",
       "      <td>10000</td>\n",
       "      <td>M24859</td>\n",
       "      <td>M</td>\n",
       "      <td>299.0</td>\n",
       "      <td>308.7</td>\n",
       "      <td>1500</td>\n",
       "      <td>40.2</td>\n",
       "      <td>30</td>\n",
       "      <td>0</td>\n",
       "      <td>No Failure</td>\n",
       "    </tr>\n",
       "  </tbody>\n",
       "</table>\n",
       "<p>10000 rows × 10 columns</p>\n",
       "</div>"
      ],
      "text/plain": [
       "        UDI ID Produto Tipo  Temperatura Ar [K]  Temperatura Processo [K]  \\\n",
       "0         1     M14860    M               298.1                     308.6   \n",
       "1         2     L47181    L               298.2                     308.7   \n",
       "2         3     L47182    L               298.1                     308.5   \n",
       "3         4     L47183    L               298.2                     308.6   \n",
       "4         5     L47184    L               298.2                     308.7   \n",
       "...     ...        ...  ...                 ...                       ...   \n",
       "9995   9996     M24855    M               298.8                     308.4   \n",
       "9996   9997     H39410    H               298.9                     308.4   \n",
       "9997   9998     M24857    M               299.0                     308.6   \n",
       "9998   9999     H39412    H               299.0                     308.7   \n",
       "9999  10000     M24859    M               299.0                     308.7   \n",
       "\n",
       "      Velocidade Rotacao [rpm]  Torque [Nm]  Desgaste Ferramenta [min]  Alvo  \\\n",
       "0                         1551         42.8                          0     0   \n",
       "1                         1408         46.3                          3     0   \n",
       "2                         1498         49.4                          5     0   \n",
       "3                         1433         39.5                          7     0   \n",
       "4                         1408         40.0                          9     0   \n",
       "...                        ...          ...                        ...   ...   \n",
       "9995                      1604         29.5                         14     0   \n",
       "9996                      1632         31.8                         17     0   \n",
       "9997                      1645         33.4                         22     0   \n",
       "9998                      1408         48.5                         25     0   \n",
       "9999                      1500         40.2                         30     0   \n",
       "\n",
       "     Tipo da Falha  \n",
       "0       No Failure  \n",
       "1       No Failure  \n",
       "2       No Failure  \n",
       "3       No Failure  \n",
       "4       No Failure  \n",
       "...            ...  \n",
       "9995    No Failure  \n",
       "9996    No Failure  \n",
       "9997    No Failure  \n",
       "9998    No Failure  \n",
       "9999    No Failure  \n",
       "\n",
       "[10000 rows x 10 columns]"
      ]
     },
     "execution_count": 7,
     "metadata": {},
     "output_type": "execute_result"
    }
   ],
   "source": [
    "dicionario = {'nome': ['Ana', 'Beto', 'Carlos', 'Diana'],\n",
    "                'idade': [23, 34, 45, 29],\n",
    "                'profissao': ['Engenheira', 'Médico', 'Professor', 'Arquiteta'],}\n",
    "\n",
    "import pandas as pd\n",
    "\n",
    "dados = pd.read_csv(r'./manutencao_preditiva.csv')\n",
    "dados"
   ]
  },
  {
   "cell_type": "code",
   "execution_count": 12,
   "metadata": {},
   "outputs": [
    {
     "data": {
      "image/png": "[encoded data removed]",
      "text/plain": [
       "<Figure size 640x480 with 1 Axes>"
      ]
     },
     "metadata": {},
     "output_type": "display_data"
    }
   ],
   "source": [
    "x = dados[\"UDI\"]\n",
    "y1 = dados[\"Temperatura Ar [K]\"]\n",
    "y2 = dados[\"Temperatura Processo [K]\"]\n",
    "\n",
    "plt.plot(x, y1, x, y2)\n",
    "plt.xlabel(\"Amostras\")\n",
    "plt.ylabel(\"Temperatura\")\n",
    "plt.legend([\"Ar\", \"Processo\"])\n",
    "plt.title(\"Temperatura do Ar/Processo\")\n",
    "plt.show()"
   ]
  },
  {
   "cell_type": "code",
   "execution_count": 13,
   "metadata": {},
   "outputs": [
    {
     "name": "stdout",
     "output_type": "stream",
     "text": [
      "<class 'pandas.core.frame.DataFrame'>\n",
      "RangeIndex: 10000 entries, 0 to 9999\n",
      "Data columns (total 10 columns):\n",
      " #   Column                     Non-Null Count  Dtype  \n",
      "---  ------                     --------------  -----  \n",
      " 0   UDI                        10000 non-null  int64  \n",
      " 1   ID Produto                 10000 non-null  object \n",
      " 2   Tipo                       10000 non-null  object \n",
      " 3   Temperatura Ar [K]         10000 non-null  float64\n",
      " 4   Temperatura Processo [K]   10000 non-null  float64\n",
      " 5   Velocidade Rotacao [rpm]   10000 non-null  int64  \n",
      " 6   Torque [Nm]                10000 non-null  float64\n",
      " 7   Desgaste Ferramenta [min]  10000 non-null  int64  \n",
      " 8   Alvo                       10000 non-null  int64  \n",
      " 9   Tipo da Falha              10000 non-null  object \n",
      "dtypes: float64(3), int64(4), object(3)\n",
      "memory usage: 781.4+ KB\n"
     ]
    }
   ],
   "source": [
    "dados.info()"
   ]
  },
  {
   "cell_type": "code",
   "execution_count": 14,
   "metadata": {},
   "outputs": [
    {
     "data": {
      "text/plain": [
       "Tipo da Falha\n",
       "No Failure                  9652\n",
       "Heat Dissipation Failure     112\n",
       "Power Failure                 95\n",
       "Overstrain Failure            78\n",
       "Tool Wear Failure             45\n",
       "Random Failures               18\n",
       "Name: count, dtype: int64"
      ]
     },
     "execution_count": 14,
     "metadata": {},
     "output_type": "execute_result"
    }
   ],
   "source": [
    "dados['Tipo da Falha'].value_counts()"
   ]
  },
  {
   "cell_type": "code",
   "execution_count": 1,
   "metadata": {},
   "outputs": [
    {
     "ename": "NameError",
     "evalue": "name 'dados' is not defined",
     "output_type": "error",
     "traceback": [
      "\u001b[1;31m---------------------------------------------------------------------------\u001b[0m",
      "\u001b[1;31mNameError\u001b[0m                                 Traceback (most recent call last)",
      "Cell \u001b[1;32mIn[1], line 1\u001b[0m\n\u001b[1;32m----> 1\u001b[0m \u001b[38;5;28mprint\u001b[39m(\u001b[38;5;124m\"\u001b[39m\u001b[38;5;124mMédia da Temperatura do Ar:\u001b[39m\u001b[38;5;124m\"\u001b[39m, \u001b[43mdados\u001b[49m[\u001b[38;5;124m'\u001b[39m\u001b[38;5;124mTemperatura Ar [K]\u001b[39m\u001b[38;5;124m'\u001b[39m]\u001b[38;5;241m.\u001b[39mmean())\n\u001b[0;32m      2\u001b[0m \u001b[38;5;28mprint\u001b[39m(\u001b[38;5;124m\"\u001b[39m\u001b[38;5;124mMediana da Temperatura do Ar:\u001b[39m\u001b[38;5;124m\"\u001b[39m, dados[\u001b[38;5;124m'\u001b[39m\u001b[38;5;124mTemperatura Ar [K]\u001b[39m\u001b[38;5;124m'\u001b[39m]\u001b[38;5;241m.\u001b[39mmedian())\n\u001b[0;32m      3\u001b[0m \u001b[38;5;28mprint\u001b[39m(\u001b[38;5;124m\"\u001b[39m\u001b[38;5;124mMínimo da Temperatura do Ar:\u001b[39m\u001b[38;5;124m\"\u001b[39m, dados[\u001b[38;5;124m'\u001b[39m\u001b[38;5;124mTemperatura Ar [K]\u001b[39m\u001b[38;5;124m'\u001b[39m]\u001b[38;5;241m.\u001b[39mmin())\n",
      "\u001b[1;31mNameError\u001b[0m: name 'dados' is not defined"
     ]
    }
   ],
   "source": [
    "print(\"Média da Temperatura do Ar:\", dados['Temperatura Ar [K]'].mean())\n",
    "print(\"Mediana da Temperatura do Ar:\", dados['Temperatura Ar [K]'].median())\n",
    "print(\"Mínimo da Temperatura do Ar:\", dados['Temperatura Ar [K]'].min())\n",
    "print(\"Máximo da Temperatura do Ar:\", dados['Temperatura Ar [K]'].max())"
   ]
  },
  {
   "cell_type": "markdown",
   "metadata": {},
   "source": [
    "# EX - 2"
   ]
  },
  {
   "cell_type": "code",
   "execution_count": 4,
   "metadata": {},
   "outputs": [
    {
     "name": "stdout",
     "output_type": "stream",
     "text": [
      "Resultado: 2.0\n"
     ]
    }
   ],
   "source": [
    "try:\n",
    "    a = int(input(\"Digite um número inteiro: \"))\n",
    "    b = int(input(\"Digite outro número inteiro: \"))\n",
    "    resultado = a / b\n",
    "except ZeroDivisionError:\n",
    "    # Tratamento da exceção específica\n",
    "    print(\"Erro: Divisão por zero!\")\n",
    "except ValueErroralueError:\n",
    "    # Tratamento de exceção genérico\n",
    "    print(\"erro: não é um numero inteiro\")\n",
    "\n",
    "print(\"Resultado:\", resultado)"
   ]
  },
  {
   "cell_type": "markdown",
   "metadata": {},
   "source": [
    "# EX - 3"
   ]
  },
  {
   "cell_type": "code",
   "execution_count": null,
   "metadata": {},
   "outputs": [],
   "source": [
    "def entradaNumero():\n",
    "    try:\n",
    "        numero = int(input(\"Digite um número inteiro: \"))\n",
    "        return numero\n",
    "    except ValueError:\n",
    "        print(\"Erro: Não é um número inteiro!\")\n",
    "\n",
    "# Example usage\n",
    "numero = entradaNumero()\n",
    "print(\"Número digitado:\", numero)"
   ]
  },
  {
   "cell_type": "markdown",
   "metadata": {},
   "source": [
    "# EX - 4"
   ]
  },
  {
   "cell_type": "code",
   "execution_count": null,
   "metadata": {},
   "outputs": [],
   "source": [
    "def acessarLista():\n",
    "    lista = list(range(10,20,30,40,50))\n",
    "    try:\n",
    "        index = int(input(\"Digite o índice da lista: \"))\n",
    "        value = lista[index]\n",
    "        print(\"Valor:\", value)\n",
    "    except IndexError:\n",
    "        print(\"Erro: Índice inválido!\")\n",
    "    except ValueError:\n",
    "        print(\"Erro: Valor não é um número inteiro!\")\n",
    "\n",
    "# Example usage\n",
    "acessarLista()"
   ]
  },
  {
   "cell_type": "markdown",
   "metadata": {},
   "source": [
    "# EX - 5"
   ]
  },
  {
   "cell_type": "code",
   "execution_count": null,
   "metadata": {},
   "outputs": [],
   "source": [
    "def celsius_to_fahrenheit(celsius):\n",
    "    try:\n",
    "        fahrenheit = (celsius * 9/5) + 32\n",
    "        return fahrenheit\n",
    "    except ValueError:\n",
    "        print(\"Erro: Valor inválido!\")\n",
    "\n",
    "# Exemplo de uso\n",
    "celsius = float(input(\"Digite a temperatura em Celsius: \"))\n",
    "fahrenheit = celsius_to_fahrenheit(celsius)\n",
    "print(\"Temperatura em Fahrenheit:\", fahrenheit)"
   ]
  },
  {
   "cell_type": "markdown",
   "metadata": {},
   "source": [
    "# EX - 6"
   ]
  },
  {
   "cell_type": "code",
   "execution_count": 20,
   "metadata": {},
   "outputs": [
    {
     "name": "stdout",
     "output_type": "stream",
     "text": [
      "Erro: Forma inválida!\n"
     ]
    }
   ],
   "source": [
    "import math\n",
    "\n",
    "# Exceções personalizadas\n",
    "class ErroPersonalizado(Exception):\n",
    "    \"\"\"Classe base para erros personalizados.\"\"\"\n",
    "    pass\n",
    "\n",
    "class FormaInvalidaError(ErroPersonalizado):\n",
    "    \"\"\"Erro para formas inválidas.\"\"\"\n",
    "    pass\n",
    "\n",
    "class ValorNegativoError(ErroPersonalizado):\n",
    "    \"\"\"Erro para valores negativos.\"\"\"\n",
    "    pass\n",
    "\n",
    "def calcular_area_circulo(raio):\n",
    "    if raio < 0:\n",
    "        raise ValorNegativoError(\"Erro: O raio não pode ser negativo!\")\n",
    "    return math.pi * raio**2\n",
    "\n",
    "def calcular_area_retangulo(lado, altura):\n",
    "    if lado < 0 or altura < 0:\n",
    "        raise ValorNegativoError(\"Erro: O lado ou a altura não podem ser negativos!\")\n",
    "    return lado * altura\n",
    "\n",
    "try:\n",
    "    forma = input(\"Digite a forma (círculo ou retângulo): \").strip().lower()\n",
    "    if forma == \"circulo\":\n",
    "        raio = float(input(\"Digite o raio do círculo: \"))\n",
    "        area = calcular_area_circulo(raio)\n",
    "        print(\"Área do círculo:\", area)\n",
    "    elif forma == \"retangulo\":\n",
    "        lado = float(input(\"Digite o lado do retângulo: \"))\n",
    "        altura = float(input(\"Digite a altura do retângulo: \"))\n",
    "        area = calcular_area_retangulo(lado, altura)\n",
    "        print(\"Área do retângulo:\", area)\n",
    "    else:\n",
    "        raise FormaInvalidaError(\"Erro: Forma inválida!\")\n",
    "except FormaInvalidaError as e:\n",
    "    print(e)\n",
    "except ValorNegativoError as e:\n",
    "    print(e)\n",
    "except ValueError:\n",
    "    print(\"Erro: Entrada inválida! Certifique-se de digitar números válidos.\")\n",
    "except Exception as e:\n",
    "    print(f\"Erro inesperado: {e}\")"
   ]
  }
 ],
 "metadata": {
  "kernelspec": {
   "display_name": "Python 3",
   "language": "python",
   "name": "python3"
  },
  "language_info": {
   "codemirror_mode": {
    "name": "ipython",
    "version": 3
   },
   "file_extension": ".py",
   "mimetype": "text/x-python",
   "name": "python",
   "nbconvert_exporter": "python",
   "pygments_lexer": "ipython3",
   "version": "3.12.3"
  }
 },
 "nbformat": 4,
 "nbformat_minor": 2
}
