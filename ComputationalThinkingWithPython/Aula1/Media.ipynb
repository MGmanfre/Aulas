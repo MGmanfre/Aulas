{
 "cells": [
  {
   "cell_type": "code",
   "execution_count": 14,
   "metadata": {},
   "outputs": [
    {
     "name": "stdout",
     "output_type": "stream",
     "text": [
      "As notas estão incorretas\n"
     ]
    }
   ],
   "source": [
    "#Estrutra de entrada\n",
    "\n",
    "n1 = float(input(\"Digite a primeira nota: \"))\n",
    "n2 = float(input(\"Digite a segunda nota: \"))\n",
    "n3 = float(input(\"Digite a terceira nota: \"))\n",
    "\n",
    "#Calculo da média\n",
    "\n",
    "m = (n1+n2+n3)/3\n",
    "\n",
    "#Estrutura de Condição\n",
    "\n",
    "if n1 > 10 or n2 > 10 or n3 > 10 or n1 < 0 or n2 < 0 or n3 < 0:\n",
    "    print(\"As notas estão incorretas\")\n",
    "elif m >= 6:\n",
    "    print(\"Aprovado\")\n",
    "    print(f\"\"\"Média: {m:.2f}\n",
    "Nota 1: {n1}\n",
    "Nota 2: {n2}\n",
    "Nota 3: {n3}\"\"\")\n",
    "elif m >= 4:\n",
    "    print(\"Exame\")\n",
    "    print(f\"\"\"Média: {m:.2f}\n",
    "Nota 1: {n1}\n",
    "Nota 2: {n2}\n",
    "Nota 3: {n3}\"\"\")\n",
    "else:\n",
    "    print(\"Reprovado\")\n",
    "    print(f\"\"\"Média: {m:.2f}\n",
    "Nota 1: {n1}\n",
    "Nota 2: {n2}\n",
    "Nota 3: {n3}\"\"\")\n",
    "\n"
   ]
  }
 ],
 "metadata": {
  "kernelspec": {
   "display_name": "Python 3",
   "language": "python",
   "name": "python3"
  },
  "language_info": {
   "codemirror_mode": {
    "name": "ipython",
    "version": 3
   },
   "file_extension": ".py",
   "mimetype": "text/x-python",
   "name": "python",
   "nbconvert_exporter": "python",
   "pygments_lexer": "ipython3",
   "version": "3.12.3"
  }
 },
 "nbformat": 4,
 "nbformat_minor": 2
}
